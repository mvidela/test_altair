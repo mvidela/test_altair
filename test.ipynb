{
 "cells": [
  {
   "cell_type": "code",
   "execution_count": 1,
   "metadata": {},
   "outputs": [
    {
     "data": {
      "application/javascript": "const spec = {\"config\": {\"view\": {\"continuousWidth\": 400, \"continuousHeight\": 300}}, \"data\": {\"name\": \"data-cf4d703968137b55ec4f5a2ec7c06cf3\"}, \"mark\": \"point\", \"encoding\": {\"x\": {\"field\": \"A\", \"type\": \"quantitative\"}, \"y\": {\"field\": \"B\", \"type\": \"quantitative\"}}, \"$schema\": \"https://vega.github.io/schema/vega-lite/v4.17.0.json\", \"datasets\": {\"data-cf4d703968137b55ec4f5a2ec7c06cf3\": [{\"A\": 54, \"B\": 63, \"C\": 31, \"D\": 74}, {\"A\": 13, \"B\": 61, \"C\": 67, \"D\": 64}, {\"A\": 46, \"B\": 79, \"C\": 99, \"D\": 97}, {\"A\": 11, \"B\": 50, \"C\": 19, \"D\": 19}, {\"A\": 92, \"B\": 57, \"C\": 6, \"D\": 56}, {\"A\": 51, \"B\": 18, \"C\": 98, \"D\": 81}, {\"A\": 28, \"B\": 82, \"C\": 76, \"D\": 20}, {\"A\": 41, \"B\": 37, \"C\": 83, \"D\": 43}, {\"A\": 18, \"B\": 87, \"C\": 29, \"D\": 54}, {\"A\": 58, \"B\": 46, \"C\": 29, \"D\": 16}, {\"A\": 10, \"B\": 45, \"C\": 11, \"D\": 40}, {\"A\": 0, \"B\": 82, \"C\": 84, \"D\": 19}, {\"A\": 0, \"B\": 9, \"C\": 10, \"D\": 48}, {\"A\": 33, \"B\": 95, \"C\": 49, \"D\": 70}, {\"A\": 27, \"B\": 31, \"C\": 35, \"D\": 69}, {\"A\": 77, \"B\": 66, \"C\": 16, \"D\": 92}, {\"A\": 31, \"B\": 73, \"C\": 33, \"D\": 15}, {\"A\": 3, \"B\": 45, \"C\": 48, \"D\": 94}, {\"A\": 55, \"B\": 90, \"C\": 77, \"D\": 86}, {\"A\": 46, \"B\": 44, \"C\": 13, \"D\": 70}, {\"A\": 73, \"B\": 6, \"C\": 76, \"D\": 20}, {\"A\": 57, \"B\": 97, \"C\": 61, \"D\": 43}, {\"A\": 94, \"B\": 99, \"C\": 31, \"D\": 67}, {\"A\": 43, \"B\": 77, \"C\": 96, \"D\": 8}, {\"A\": 75, \"B\": 77, \"C\": 90, \"D\": 47}, {\"A\": 61, \"B\": 49, \"C\": 59, \"D\": 6}, {\"A\": 41, \"B\": 26, \"C\": 59, \"D\": 59}, {\"A\": 70, \"B\": 64, \"C\": 69, \"D\": 72}, {\"A\": 45, \"B\": 13, \"C\": 24, \"D\": 86}, {\"A\": 43, \"B\": 88, \"C\": 49, \"D\": 36}, {\"A\": 9, \"B\": 5, \"C\": 33, \"D\": 54}, {\"A\": 74, \"B\": 25, \"C\": 18, \"D\": 60}, {\"A\": 24, \"B\": 56, \"C\": 10, \"D\": 43}, {\"A\": 10, \"B\": 14, \"C\": 16, \"D\": 55}, {\"A\": 67, \"B\": 56, \"C\": 3, \"D\": 37}, {\"A\": 67, \"B\": 56, \"C\": 38, \"D\": 65}, {\"A\": 71, \"B\": 39, \"C\": 27, \"D\": 11}, {\"A\": 4, \"B\": 96, \"C\": 37, \"D\": 55}, {\"A\": 75, \"B\": 0, \"C\": 43, \"D\": 56}, {\"A\": 27, \"B\": 90, \"C\": 43, \"D\": 87}, {\"A\": 92, \"B\": 99, \"C\": 8, \"D\": 90}, {\"A\": 45, \"B\": 54, \"C\": 41, \"D\": 89}, {\"A\": 2, \"B\": 20, \"C\": 15, \"D\": 30}, {\"A\": 50, \"B\": 47, \"C\": 59, \"D\": 53}, {\"A\": 66, \"B\": 49, \"C\": 74, \"D\": 89}, {\"A\": 12, \"B\": 20, \"C\": 90, \"D\": 90}, {\"A\": 52, \"B\": 80, \"C\": 89, \"D\": 72}, {\"A\": 96, \"B\": 53, \"C\": 7, \"D\": 53}, {\"A\": 59, \"B\": 64, \"C\": 27, \"D\": 36}, {\"A\": 95, \"B\": 37, \"C\": 3, \"D\": 66}, {\"A\": 46, \"B\": 96, \"C\": 50, \"D\": 51}, {\"A\": 5, \"B\": 60, \"C\": 5, \"D\": 48}, {\"A\": 25, \"B\": 1, \"C\": 28, \"D\": 68}, {\"A\": 25, \"B\": 25, \"C\": 40, \"D\": 57}, {\"A\": 14, \"B\": 88, \"C\": 10, \"D\": 77}, {\"A\": 92, \"B\": 20, \"C\": 73, \"D\": 22}, {\"A\": 54, \"B\": 51, \"C\": 25, \"D\": 91}, {\"A\": 81, \"B\": 12, \"C\": 82, \"D\": 29}, {\"A\": 37, \"B\": 97, \"C\": 72, \"D\": 93}, {\"A\": 41, \"B\": 79, \"C\": 53, \"D\": 72}, {\"A\": 61, \"B\": 50, \"C\": 4, \"D\": 28}, {\"A\": 35, \"B\": 96, \"C\": 88, \"D\": 19}, {\"A\": 92, \"B\": 66, \"C\": 88, \"D\": 2}, {\"A\": 8, \"B\": 43, \"C\": 95, \"D\": 85}, {\"A\": 50, \"B\": 63, \"C\": 83, \"D\": 73}, {\"A\": 35, \"B\": 40, \"C\": 70, \"D\": 94}, {\"A\": 25, \"B\": 80, \"C\": 3, \"D\": 95}, {\"A\": 32, \"B\": 44, \"C\": 79, \"D\": 51}, {\"A\": 84, \"B\": 10, \"C\": 51, \"D\": 36}, {\"A\": 3, \"B\": 32, \"C\": 61, \"D\": 31}, {\"A\": 50, \"B\": 69, \"C\": 7, \"D\": 66}, {\"A\": 22, \"B\": 85, \"C\": 90, \"D\": 81}, {\"A\": 12, \"B\": 79, \"C\": 99, \"D\": 99}, {\"A\": 69, \"B\": 77, \"C\": 7, \"D\": 10}, {\"A\": 59, \"B\": 95, \"C\": 1, \"D\": 63}, {\"A\": 55, \"B\": 27, \"C\": 26, \"D\": 79}, {\"A\": 92, \"B\": 71, \"C\": 37, \"D\": 19}, {\"A\": 94, \"B\": 60, \"C\": 8, \"D\": 71}, {\"A\": 86, \"B\": 51, \"C\": 88, \"D\": 61}, {\"A\": 88, \"B\": 44, \"C\": 27, \"D\": 8}, {\"A\": 82, \"B\": 49, \"C\": 40, \"D\": 44}, {\"A\": 64, \"B\": 41, \"C\": 16, \"D\": 98}, {\"A\": 49, \"B\": 78, \"C\": 51, \"D\": 5}, {\"A\": 8, \"B\": 37, \"C\": 67, \"D\": 39}, {\"A\": 71, \"B\": 4, \"C\": 54, \"D\": 72}, {\"A\": 4, \"B\": 4, \"C\": 27, \"D\": 69}, {\"A\": 16, \"B\": 90, \"C\": 9, \"D\": 34}, {\"A\": 24, \"B\": 88, \"C\": 89, \"D\": 58}, {\"A\": 9, \"B\": 0, \"C\": 70, \"D\": 16}, {\"A\": 92, \"B\": 0, \"C\": 17, \"D\": 1}, {\"A\": 23, \"B\": 90, \"C\": 71, \"D\": 30}, {\"A\": 54, \"B\": 75, \"C\": 78, \"D\": 60}, {\"A\": 61, \"B\": 41, \"C\": 60, \"D\": 41}, {\"A\": 29, \"B\": 9, \"C\": 15, \"D\": 72}, {\"A\": 31, \"B\": 31, \"C\": 70, \"D\": 58}, {\"A\": 9, \"B\": 9, \"C\": 57, \"D\": 88}, {\"A\": 21, \"B\": 48, \"C\": 33, \"D\": 62}, {\"A\": 99, \"B\": 71, \"C\": 96, \"D\": 99}, {\"A\": 52, \"B\": 98, \"C\": 33, \"D\": 61}, {\"A\": 50, \"B\": 92, \"C\": 79, \"D\": 13}]}};\nconst opt = {};\nconst type = \"vega-lite\";\nconst id = \"efd528b0-e913-4fc9-bf94-42796880340a\";\n\nconst output_area = this;\n\nrequire([\"jupyter-vega\"], function(vega) {\n  const target = document.createElement(\"div\");\n  target.id = id;\n  target.className = \"vega-embed\";\n\n  const style = document.createElement(\"style\");\n  style.textContent = [\n    \".vega-embed .error p {\",\n    \"  color: firebrick;\",\n    \"  font-size: 14px;\",\n    \"}\",\n  ].join(\"\\\\n\");\n\n  // element is a jQuery wrapped DOM element inside the output area\n  // see http://ipython.readthedocs.io/en/stable/api/generated/\\\n  // IPython.display.html#IPython.display.Javascript.__init__\n  element[0].appendChild(target);\n  element[0].appendChild(style);\n\n  vega.render(`#$efd528b0-e913-4fc9-bf94-42796880340a`, spec, type, opt, output_area);\n}, function (err) {\n  if (err.requireType !== \"scripterror\") {\n    throw(err);\n  }\n});\n",
      "text/plain": [
       "<vega.vegalite.VegaLite at 0x1114fdb80>"
      ]
     },
     "metadata": {
      "jupyter-vega": "#efd528b0-e913-4fc9-bf94-42796880340a"
     },
     "output_type": "display_data"
    },
    {
     "data": {
      "text/plain": []
     },
     "execution_count": 1,
     "metadata": {},
     "output_type": "execute_result"
    }
   ],
   "source": [
    "import altair as alt\n",
    "import pandas as pd\n",
    "import numpy as np\n",
    "\n",
    "#alt.renderers.enable('notebook')\n",
    "alt.renderers.enable('default')\n",
    "\n",
    "# This is a comment\n",
    "(\n",
    "  alt.Chart( pd.DataFrame(np.random.randint(0,100,size=(100, 4)), columns=list('ABCD')) )\n",
    "  .mark_point()\n",
    "  .encode(\n",
    "    x='A',\n",
    "    y='B'\n",
    "  )\n",
    ")"
   ]
  },
  {
   "cell_type": "code",
   "execution_count": null,
   "metadata": {},
   "outputs": [],
   "source": []
  }
 ],
 "metadata": {
  "kernelspec": {
   "display_name": "Python 3.9.13 64-bit",
   "language": "python",
   "name": "python3"
  },
  "language_info": {
   "codemirror_mode": {
    "name": "ipython",
    "version": 3
   },
   "file_extension": ".py",
   "mimetype": "text/x-python",
   "name": "python",
   "nbconvert_exporter": "python",
   "pygments_lexer": "ipython3",
   "version": "3.9.13"
  },
  "orig_nbformat": 4,
  "vscode": {
   "interpreter": {
    "hash": "b0fa6594d8f4cbf19f97940f81e996739fb7646882a419484c72d19e05852a7e"
   }
  }
 },
 "nbformat": 4,
 "nbformat_minor": 2
}
