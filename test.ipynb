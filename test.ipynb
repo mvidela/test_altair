{
 "cells": [
  {
   "cell_type": "code",
   "execution_count": 9,
   "metadata": {},
   "outputs": [
    {
     "data": {
      "text/html": [
       "\n",
       "<div id=\"altair-viz-cccf3111a9d84279949af85f2e41b30b\"></div>\n",
       "<script type=\"text/javascript\">\n",
       "  var VEGA_DEBUG = (typeof VEGA_DEBUG == \"undefined\") ? {} : VEGA_DEBUG;\n",
       "  (function(spec, embedOpt){\n",
       "    let outputDiv = document.currentScript.previousElementSibling;\n",
       "    if (outputDiv.id !== \"altair-viz-cccf3111a9d84279949af85f2e41b30b\") {\n",
       "      outputDiv = document.getElementById(\"altair-viz-cccf3111a9d84279949af85f2e41b30b\");\n",
       "    }\n",
       "    const paths = {\n",
       "      \"vega\": \"https://cdn.jsdelivr.net/npm//vega@5?noext\",\n",
       "      \"vega-lib\": \"https://cdn.jsdelivr.net/npm//vega-lib?noext\",\n",
       "      \"vega-lite\": \"https://cdn.jsdelivr.net/npm//vega-lite@4.17.0?noext\",\n",
       "      \"vega-embed\": \"https://cdn.jsdelivr.net/npm//vega-embed@6?noext\",\n",
       "    };\n",
       "\n",
       "    function maybeLoadScript(lib, version) {\n",
       "      var key = `${lib.replace(\"-\", \"\")}_version`;\n",
       "      return (VEGA_DEBUG[key] == version) ?\n",
       "        Promise.resolve(paths[lib]) :\n",
       "        new Promise(function(resolve, reject) {\n",
       "          var s = document.createElement('script');\n",
       "          document.getElementsByTagName(\"head\")[0].appendChild(s);\n",
       "          s.async = true;\n",
       "          s.onload = () => {\n",
       "            VEGA_DEBUG[key] = version;\n",
       "            return resolve(paths[lib]);\n",
       "          };\n",
       "          s.onerror = () => reject(`Error loading script: ${paths[lib]}`);\n",
       "          s.src = paths[lib];\n",
       "        });\n",
       "    }\n",
       "\n",
       "    function showError(err) {\n",
       "      outputDiv.innerHTML = `<div class=\"error\" style=\"color:red;\">${err}</div>`;\n",
       "      throw err;\n",
       "    }\n",
       "\n",
       "    function displayChart(vegaEmbed) {\n",
       "      vegaEmbed(outputDiv, spec, embedOpt)\n",
       "        .catch(err => showError(`Javascript Error: ${err.message}<br>This usually means there's a typo in your chart specification. See the javascript console for the full traceback.`));\n",
       "    }\n",
       "\n",
       "    if(typeof define === \"function\" && define.amd) {\n",
       "      requirejs.config({paths});\n",
       "      require([\"vega-embed\"], displayChart, err => showError(`Error loading script: ${err.message}`));\n",
       "    } else {\n",
       "      maybeLoadScript(\"vega\", \"5\")\n",
       "        .then(() => maybeLoadScript(\"vega-lite\", \"4.17.0\"))\n",
       "        .then(() => maybeLoadScript(\"vega-embed\", \"6\"))\n",
       "        .catch(showError)\n",
       "        .then(() => displayChart(vegaEmbed));\n",
       "    }\n",
       "  })({\"config\": {\"view\": {\"continuousWidth\": 400, \"continuousHeight\": 300}}, \"data\": {\"name\": \"data-ce394af454defd9ecba6a1b1303fb74c\"}, \"mark\": \"point\", \"encoding\": {\"x\": {\"field\": \"A\", \"type\": \"quantitative\"}, \"y\": {\"field\": \"B\", \"type\": \"quantitative\"}}, \"$schema\": \"https://vega.github.io/schema/vega-lite/v4.17.0.json\", \"datasets\": {\"data-ce394af454defd9ecba6a1b1303fb74c\": [{\"A\": 45, \"B\": 13, \"C\": 70, \"D\": 48}, {\"A\": 18, \"B\": 61, \"C\": 56, \"D\": 18}, {\"A\": 47, \"B\": 54, \"C\": 61, \"D\": 11}, {\"A\": 13, \"B\": 8, \"C\": 20, \"D\": 45}, {\"A\": 70, \"B\": 88, \"C\": 92, \"D\": 20}, {\"A\": 8, \"B\": 80, \"C\": 4, \"D\": 31}, {\"A\": 23, \"B\": 20, \"C\": 36, \"D\": 30}, {\"A\": 16, \"B\": 22, \"C\": 93, \"D\": 30}, {\"A\": 8, \"B\": 15, \"C\": 97, \"D\": 54}, {\"A\": 33, \"B\": 63, \"C\": 91, \"D\": 40}, {\"A\": 7, \"B\": 87, \"C\": 49, \"D\": 17}, {\"A\": 45, \"B\": 16, \"C\": 3, \"D\": 55}, {\"A\": 24, \"B\": 96, \"C\": 47, \"D\": 4}, {\"A\": 66, \"B\": 33, \"C\": 30, \"D\": 98}, {\"A\": 14, \"B\": 88, \"C\": 22, \"D\": 69}, {\"A\": 88, \"B\": 73, \"C\": 53, \"D\": 17}, {\"A\": 90, \"B\": 1, \"C\": 89, \"D\": 81}, {\"A\": 60, \"B\": 89, \"C\": 75, \"D\": 42}, {\"A\": 28, \"B\": 7, \"C\": 43, \"D\": 22}, {\"A\": 66, \"B\": 57, \"C\": 19, \"D\": 45}, {\"A\": 66, \"B\": 86, \"C\": 15, \"D\": 76}, {\"A\": 4, \"B\": 18, \"C\": 61, \"D\": 52}, {\"A\": 61, \"B\": 47, \"C\": 41, \"D\": 25}, {\"A\": 44, \"B\": 42, \"C\": 25, \"D\": 89}, {\"A\": 10, \"B\": 31, \"C\": 45, \"D\": 13}, {\"A\": 97, \"B\": 9, \"C\": 85, \"D\": 21}, {\"A\": 96, \"B\": 19, \"C\": 75, \"D\": 42}, {\"A\": 77, \"B\": 32, \"C\": 6, \"D\": 15}, {\"A\": 84, \"B\": 91, \"C\": 54, \"D\": 76}, {\"A\": 67, \"B\": 6, \"C\": 61, \"D\": 95}, {\"A\": 32, \"B\": 73, \"C\": 66, \"D\": 59}, {\"A\": 65, \"B\": 89, \"C\": 88, \"D\": 81}, {\"A\": 8, \"B\": 21, \"C\": 91, \"D\": 63}, {\"A\": 4, \"B\": 70, \"C\": 4, \"D\": 38}, {\"A\": 55, \"B\": 96, \"C\": 7, \"D\": 51}, {\"A\": 28, \"B\": 94, \"C\": 95, \"D\": 7}, {\"A\": 43, \"B\": 12, \"C\": 18, \"D\": 40}, {\"A\": 61, \"B\": 65, \"C\": 50, \"D\": 4}, {\"A\": 38, \"B\": 25, \"C\": 72, \"D\": 44}, {\"A\": 19, \"B\": 88, \"C\": 36, \"D\": 16}, {\"A\": 48, \"B\": 71, \"C\": 46, \"D\": 69}, {\"A\": 75, \"B\": 75, \"C\": 8, \"D\": 7}, {\"A\": 9, \"B\": 54, \"C\": 77, \"D\": 63}, {\"A\": 20, \"B\": 37, \"C\": 96, \"D\": 50}, {\"A\": 0, \"B\": 72, \"C\": 61, \"D\": 40}, {\"A\": 85, \"B\": 43, \"C\": 58, \"D\": 62}, {\"A\": 21, \"B\": 94, \"C\": 64, \"D\": 92}, {\"A\": 26, \"B\": 31, \"C\": 6, \"D\": 52}, {\"A\": 49, \"B\": 15, \"C\": 12, \"D\": 94}, {\"A\": 77, \"B\": 85, \"C\": 1, \"D\": 10}, {\"A\": 38, \"B\": 58, \"C\": 79, \"D\": 39}, {\"A\": 47, \"B\": 71, \"C\": 42, \"D\": 9}, {\"A\": 48, \"B\": 76, \"C\": 43, \"D\": 57}, {\"A\": 10, \"B\": 8, \"C\": 60, \"D\": 16}, {\"A\": 58, \"B\": 16, \"C\": 33, \"D\": 77}, {\"A\": 61, \"B\": 74, \"C\": 33, \"D\": 82}, {\"A\": 85, \"B\": 5, \"C\": 59, \"D\": 67}, {\"A\": 54, \"B\": 14, \"C\": 23, \"D\": 24}, {\"A\": 53, \"B\": 76, \"C\": 72, \"D\": 28}, {\"A\": 93, \"B\": 77, \"C\": 19, \"D\": 40}, {\"A\": 13, \"B\": 25, \"C\": 72, \"D\": 85}, {\"A\": 51, \"B\": 40, \"C\": 52, \"D\": 88}, {\"A\": 65, \"B\": 1, \"C\": 77, \"D\": 49}, {\"A\": 68, \"B\": 77, \"C\": 75, \"D\": 39}, {\"A\": 39, \"B\": 74, \"C\": 40, \"D\": 55}, {\"A\": 10, \"B\": 9, \"C\": 63, \"D\": 96}, {\"A\": 37, \"B\": 10, \"C\": 0, \"D\": 77}, {\"A\": 22, \"B\": 64, \"C\": 79, \"D\": 55}, {\"A\": 92, \"B\": 27, \"C\": 87, \"D\": 66}, {\"A\": 37, \"B\": 94, \"C\": 79, \"D\": 75}, {\"A\": 81, \"B\": 67, \"C\": 41, \"D\": 62}, {\"A\": 48, \"B\": 34, \"C\": 77, \"D\": 58}, {\"A\": 72, \"B\": 51, \"C\": 24, \"D\": 4}, {\"A\": 60, \"B\": 64, \"C\": 14, \"D\": 25}, {\"A\": 5, \"B\": 53, \"C\": 97, \"D\": 40}, {\"A\": 81, \"B\": 61, \"C\": 89, \"D\": 60}, {\"A\": 4, \"B\": 44, \"C\": 33, \"D\": 14}, {\"A\": 35, \"B\": 72, \"C\": 23, \"D\": 7}, {\"A\": 74, \"B\": 53, \"C\": 56, \"D\": 52}, {\"A\": 49, \"B\": 5, \"C\": 92, \"D\": 58}, {\"A\": 26, \"B\": 82, \"C\": 20, \"D\": 86}, {\"A\": 84, \"B\": 7, \"C\": 66, \"D\": 17}, {\"A\": 50, \"B\": 44, \"C\": 56, \"D\": 55}, {\"A\": 57, \"B\": 72, \"C\": 89, \"D\": 56}, {\"A\": 78, \"B\": 2, \"C\": 70, \"D\": 95}, {\"A\": 79, \"B\": 80, \"C\": 77, \"D\": 94}, {\"A\": 17, \"B\": 9, \"C\": 59, \"D\": 87}, {\"A\": 58, \"B\": 60, \"C\": 69, \"D\": 34}, {\"A\": 0, \"B\": 44, \"C\": 42, \"D\": 4}, {\"A\": 67, \"B\": 70, \"C\": 88, \"D\": 42}, {\"A\": 36, \"B\": 96, \"C\": 73, \"D\": 22}, {\"A\": 49, \"B\": 70, \"C\": 15, \"D\": 17}, {\"A\": 46, \"B\": 35, \"C\": 11, \"D\": 83}, {\"A\": 29, \"B\": 3, \"C\": 67, \"D\": 83}, {\"A\": 55, \"B\": 2, \"C\": 24, \"D\": 16}, {\"A\": 92, \"B\": 52, \"C\": 42, \"D\": 39}, {\"A\": 35, \"B\": 69, \"C\": 41, \"D\": 2}, {\"A\": 17, \"B\": 69, \"C\": 93, \"D\": 90}, {\"A\": 41, \"B\": 27, \"C\": 67, \"D\": 15}, {\"A\": 1, \"B\": 7, \"C\": 18, \"D\": 53}]}}, {\"mode\": \"vega-lite\"});\n",
       "</script>"
      ],
      "text/plain": [
       "alt.Chart(...)"
      ]
     },
     "execution_count": 9,
     "metadata": {},
     "output_type": "execute_result"
    }
   ],
   "source": [
    "import altair as alt\n",
    "import pandas as pd\n",
    "import numpy as np\n",
    "\n",
    "# alt.renderers.enable('notebook')\n",
    "alt.renderers.enable('default')\n",
    "# alt.renderers.enable('mimetype')\n",
    "# alt.renderers.enable('jupyterlab')\n",
    "# alt.renderers.enable('svg')\n",
    "\n",
    "# This is a comment\n",
    "df = pd.DataFrame(np.random.randint(\n",
    "    0, 100, size=(100, 4)), columns=list('ABCD'))\n",
    "(\n",
    "  alt.Chart(df)\n",
    "  .mark_point()\n",
    "  .encode(\n",
    "    x='A',\n",
    "    y='B'\n",
    "  )\n",
    ")"
   ]
  },
  {
   "cell_type": "code",
   "execution_count": 10,
   "metadata": {},
   "outputs": [
    {
     "data": {
      "text/html": [
       "\n",
       "<div id=\"altair-viz-d67d61b701854184ad9a8014c49badea\"></div>\n",
       "<script type=\"text/javascript\">\n",
       "  var VEGA_DEBUG = (typeof VEGA_DEBUG == \"undefined\") ? {} : VEGA_DEBUG;\n",
       "  (function(spec, embedOpt){\n",
       "    let outputDiv = document.currentScript.previousElementSibling;\n",
       "    if (outputDiv.id !== \"altair-viz-d67d61b701854184ad9a8014c49badea\") {\n",
       "      outputDiv = document.getElementById(\"altair-viz-d67d61b701854184ad9a8014c49badea\");\n",
       "    }\n",
       "    const paths = {\n",
       "      \"vega\": \"https://cdn.jsdelivr.net/npm//vega@5?noext\",\n",
       "      \"vega-lib\": \"https://cdn.jsdelivr.net/npm//vega-lib?noext\",\n",
       "      \"vega-lite\": \"https://cdn.jsdelivr.net/npm//vega-lite@4.17.0?noext\",\n",
       "      \"vega-embed\": \"https://cdn.jsdelivr.net/npm//vega-embed@6?noext\",\n",
       "    };\n",
       "\n",
       "    function maybeLoadScript(lib, version) {\n",
       "      var key = `${lib.replace(\"-\", \"\")}_version`;\n",
       "      return (VEGA_DEBUG[key] == version) ?\n",
       "        Promise.resolve(paths[lib]) :\n",
       "        new Promise(function(resolve, reject) {\n",
       "          var s = document.createElement('script');\n",
       "          document.getElementsByTagName(\"head\")[0].appendChild(s);\n",
       "          s.async = true;\n",
       "          s.onload = () => {\n",
       "            VEGA_DEBUG[key] = version;\n",
       "            return resolve(paths[lib]);\n",
       "          };\n",
       "          s.onerror = () => reject(`Error loading script: ${paths[lib]}`);\n",
       "          s.src = paths[lib];\n",
       "        });\n",
       "    }\n",
       "\n",
       "    function showError(err) {\n",
       "      outputDiv.innerHTML = `<div class=\"error\" style=\"color:red;\">${err}</div>`;\n",
       "      throw err;\n",
       "    }\n",
       "\n",
       "    function displayChart(vegaEmbed) {\n",
       "      vegaEmbed(outputDiv, spec, embedOpt)\n",
       "        .catch(err => showError(`Javascript Error: ${err.message}<br>This usually means there's a typo in your chart specification. See the javascript console for the full traceback.`));\n",
       "    }\n",
       "\n",
       "    if(typeof define === \"function\" && define.amd) {\n",
       "      requirejs.config({paths});\n",
       "      require([\"vega-embed\"], displayChart, err => showError(`Error loading script: ${err.message}`));\n",
       "    } else {\n",
       "      maybeLoadScript(\"vega\", \"5\")\n",
       "        .then(() => maybeLoadScript(\"vega-lite\", \"4.17.0\"))\n",
       "        .then(() => maybeLoadScript(\"vega-embed\", \"6\"))\n",
       "        .catch(showError)\n",
       "        .then(() => displayChart(vegaEmbed));\n",
       "    }\n",
       "  })({\"config\": {\"view\": {\"continuousWidth\": 400, \"continuousHeight\": 300}}, \"data\": {\"name\": \"data-ce394af454defd9ecba6a1b1303fb74c\"}, \"mark\": \"area\", \"encoding\": {\"x\": {\"field\": \"A\", \"type\": \"quantitative\"}, \"y\": {\"field\": \"B\", \"type\": \"quantitative\"}}, \"$schema\": \"https://vega.github.io/schema/vega-lite/v4.17.0.json\", \"datasets\": {\"data-ce394af454defd9ecba6a1b1303fb74c\": [{\"A\": 45, \"B\": 13, \"C\": 70, \"D\": 48}, {\"A\": 18, \"B\": 61, \"C\": 56, \"D\": 18}, {\"A\": 47, \"B\": 54, \"C\": 61, \"D\": 11}, {\"A\": 13, \"B\": 8, \"C\": 20, \"D\": 45}, {\"A\": 70, \"B\": 88, \"C\": 92, \"D\": 20}, {\"A\": 8, \"B\": 80, \"C\": 4, \"D\": 31}, {\"A\": 23, \"B\": 20, \"C\": 36, \"D\": 30}, {\"A\": 16, \"B\": 22, \"C\": 93, \"D\": 30}, {\"A\": 8, \"B\": 15, \"C\": 97, \"D\": 54}, {\"A\": 33, \"B\": 63, \"C\": 91, \"D\": 40}, {\"A\": 7, \"B\": 87, \"C\": 49, \"D\": 17}, {\"A\": 45, \"B\": 16, \"C\": 3, \"D\": 55}, {\"A\": 24, \"B\": 96, \"C\": 47, \"D\": 4}, {\"A\": 66, \"B\": 33, \"C\": 30, \"D\": 98}, {\"A\": 14, \"B\": 88, \"C\": 22, \"D\": 69}, {\"A\": 88, \"B\": 73, \"C\": 53, \"D\": 17}, {\"A\": 90, \"B\": 1, \"C\": 89, \"D\": 81}, {\"A\": 60, \"B\": 89, \"C\": 75, \"D\": 42}, {\"A\": 28, \"B\": 7, \"C\": 43, \"D\": 22}, {\"A\": 66, \"B\": 57, \"C\": 19, \"D\": 45}, {\"A\": 66, \"B\": 86, \"C\": 15, \"D\": 76}, {\"A\": 4, \"B\": 18, \"C\": 61, \"D\": 52}, {\"A\": 61, \"B\": 47, \"C\": 41, \"D\": 25}, {\"A\": 44, \"B\": 42, \"C\": 25, \"D\": 89}, {\"A\": 10, \"B\": 31, \"C\": 45, \"D\": 13}, {\"A\": 97, \"B\": 9, \"C\": 85, \"D\": 21}, {\"A\": 96, \"B\": 19, \"C\": 75, \"D\": 42}, {\"A\": 77, \"B\": 32, \"C\": 6, \"D\": 15}, {\"A\": 84, \"B\": 91, \"C\": 54, \"D\": 76}, {\"A\": 67, \"B\": 6, \"C\": 61, \"D\": 95}, {\"A\": 32, \"B\": 73, \"C\": 66, \"D\": 59}, {\"A\": 65, \"B\": 89, \"C\": 88, \"D\": 81}, {\"A\": 8, \"B\": 21, \"C\": 91, \"D\": 63}, {\"A\": 4, \"B\": 70, \"C\": 4, \"D\": 38}, {\"A\": 55, \"B\": 96, \"C\": 7, \"D\": 51}, {\"A\": 28, \"B\": 94, \"C\": 95, \"D\": 7}, {\"A\": 43, \"B\": 12, \"C\": 18, \"D\": 40}, {\"A\": 61, \"B\": 65, \"C\": 50, \"D\": 4}, {\"A\": 38, \"B\": 25, \"C\": 72, \"D\": 44}, {\"A\": 19, \"B\": 88, \"C\": 36, \"D\": 16}, {\"A\": 48, \"B\": 71, \"C\": 46, \"D\": 69}, {\"A\": 75, \"B\": 75, \"C\": 8, \"D\": 7}, {\"A\": 9, \"B\": 54, \"C\": 77, \"D\": 63}, {\"A\": 20, \"B\": 37, \"C\": 96, \"D\": 50}, {\"A\": 0, \"B\": 72, \"C\": 61, \"D\": 40}, {\"A\": 85, \"B\": 43, \"C\": 58, \"D\": 62}, {\"A\": 21, \"B\": 94, \"C\": 64, \"D\": 92}, {\"A\": 26, \"B\": 31, \"C\": 6, \"D\": 52}, {\"A\": 49, \"B\": 15, \"C\": 12, \"D\": 94}, {\"A\": 77, \"B\": 85, \"C\": 1, \"D\": 10}, {\"A\": 38, \"B\": 58, \"C\": 79, \"D\": 39}, {\"A\": 47, \"B\": 71, \"C\": 42, \"D\": 9}, {\"A\": 48, \"B\": 76, \"C\": 43, \"D\": 57}, {\"A\": 10, \"B\": 8, \"C\": 60, \"D\": 16}, {\"A\": 58, \"B\": 16, \"C\": 33, \"D\": 77}, {\"A\": 61, \"B\": 74, \"C\": 33, \"D\": 82}, {\"A\": 85, \"B\": 5, \"C\": 59, \"D\": 67}, {\"A\": 54, \"B\": 14, \"C\": 23, \"D\": 24}, {\"A\": 53, \"B\": 76, \"C\": 72, \"D\": 28}, {\"A\": 93, \"B\": 77, \"C\": 19, \"D\": 40}, {\"A\": 13, \"B\": 25, \"C\": 72, \"D\": 85}, {\"A\": 51, \"B\": 40, \"C\": 52, \"D\": 88}, {\"A\": 65, \"B\": 1, \"C\": 77, \"D\": 49}, {\"A\": 68, \"B\": 77, \"C\": 75, \"D\": 39}, {\"A\": 39, \"B\": 74, \"C\": 40, \"D\": 55}, {\"A\": 10, \"B\": 9, \"C\": 63, \"D\": 96}, {\"A\": 37, \"B\": 10, \"C\": 0, \"D\": 77}, {\"A\": 22, \"B\": 64, \"C\": 79, \"D\": 55}, {\"A\": 92, \"B\": 27, \"C\": 87, \"D\": 66}, {\"A\": 37, \"B\": 94, \"C\": 79, \"D\": 75}, {\"A\": 81, \"B\": 67, \"C\": 41, \"D\": 62}, {\"A\": 48, \"B\": 34, \"C\": 77, \"D\": 58}, {\"A\": 72, \"B\": 51, \"C\": 24, \"D\": 4}, {\"A\": 60, \"B\": 64, \"C\": 14, \"D\": 25}, {\"A\": 5, \"B\": 53, \"C\": 97, \"D\": 40}, {\"A\": 81, \"B\": 61, \"C\": 89, \"D\": 60}, {\"A\": 4, \"B\": 44, \"C\": 33, \"D\": 14}, {\"A\": 35, \"B\": 72, \"C\": 23, \"D\": 7}, {\"A\": 74, \"B\": 53, \"C\": 56, \"D\": 52}, {\"A\": 49, \"B\": 5, \"C\": 92, \"D\": 58}, {\"A\": 26, \"B\": 82, \"C\": 20, \"D\": 86}, {\"A\": 84, \"B\": 7, \"C\": 66, \"D\": 17}, {\"A\": 50, \"B\": 44, \"C\": 56, \"D\": 55}, {\"A\": 57, \"B\": 72, \"C\": 89, \"D\": 56}, {\"A\": 78, \"B\": 2, \"C\": 70, \"D\": 95}, {\"A\": 79, \"B\": 80, \"C\": 77, \"D\": 94}, {\"A\": 17, \"B\": 9, \"C\": 59, \"D\": 87}, {\"A\": 58, \"B\": 60, \"C\": 69, \"D\": 34}, {\"A\": 0, \"B\": 44, \"C\": 42, \"D\": 4}, {\"A\": 67, \"B\": 70, \"C\": 88, \"D\": 42}, {\"A\": 36, \"B\": 96, \"C\": 73, \"D\": 22}, {\"A\": 49, \"B\": 70, \"C\": 15, \"D\": 17}, {\"A\": 46, \"B\": 35, \"C\": 11, \"D\": 83}, {\"A\": 29, \"B\": 3, \"C\": 67, \"D\": 83}, {\"A\": 55, \"B\": 2, \"C\": 24, \"D\": 16}, {\"A\": 92, \"B\": 52, \"C\": 42, \"D\": 39}, {\"A\": 35, \"B\": 69, \"C\": 41, \"D\": 2}, {\"A\": 17, \"B\": 69, \"C\": 93, \"D\": 90}, {\"A\": 41, \"B\": 27, \"C\": 67, \"D\": 15}, {\"A\": 1, \"B\": 7, \"C\": 18, \"D\": 53}]}}, {\"mode\": \"vega-lite\"});\n",
       "</script>"
      ],
      "text/plain": [
       "alt.Chart(...)"
      ]
     },
     "execution_count": 10,
     "metadata": {},
     "output_type": "execute_result"
    }
   ],
   "source": [
    "(\n",
    "    alt.Chart(df)\n",
    "    .mark_area()\n",
    "    .encode(\n",
    "        x='A',\n",
    "        y='B'\n",
    "    )\n",
    ")\n"
   ]
  },
  {
   "cell_type": "code",
   "execution_count": null,
   "metadata": {},
   "outputs": [],
   "source": []
  }
 ],
 "metadata": {
  "kernelspec": {
   "display_name": "Python 3 (ipykernel)",
   "language": "python",
   "name": "python3"
  },
  "language_info": {
   "codemirror_mode": {
    "name": "ipython",
    "version": 3
   },
   "file_extension": ".py",
   "mimetype": "text/x-python",
   "name": "python",
   "nbconvert_exporter": "python",
   "pygments_lexer": "ipython3",
   "version": "3.10.5"
  },
  "vscode": {
   "interpreter": {
    "hash": "b0fa6594d8f4cbf19f97940f81e996739fb7646882a419484c72d19e05852a7e"
   }
  }
 },
 "nbformat": 4,
 "nbformat_minor": 2
}
