{
 "cells": [
  {
   "cell_type": "code",
   "execution_count": 3,
   "metadata": {},
   "outputs": [
    {
     "data": {
      "application/vnd.vegalite.v4+json": {
       "$schema": "https://vega.github.io/schema/vega-lite/v4.17.0.json",
       "config": {
        "view": {
         "continuousHeight": 300,
         "continuousWidth": 400
        }
       },
       "data": {
        "name": "data-f46a7ece0a8c8f91379afc2b1f08f498"
       },
       "datasets": {
        "data-f46a7ece0a8c8f91379afc2b1f08f498": [
         {
          "A": 7,
          "B": 39,
          "C": 88,
          "D": 78
         },
         {
          "A": 83,
          "B": 74,
          "C": 98,
          "D": 33
         },
         {
          "A": 23,
          "B": 50,
          "C": 92,
          "D": 14
         },
         {
          "A": 29,
          "B": 27,
          "C": 43,
          "D": 17
         },
         {
          "A": 40,
          "B": 19,
          "C": 58,
          "D": 50
         },
         {
          "A": 69,
          "B": 89,
          "C": 68,
          "D": 61
         },
         {
          "A": 10,
          "B": 94,
          "C": 59,
          "D": 8
         },
         {
          "A": 53,
          "B": 62,
          "C": 61,
          "D": 13
         },
         {
          "A": 6,
          "B": 94,
          "C": 27,
          "D": 33
         },
         {
          "A": 34,
          "B": 0,
          "C": 98,
          "D": 55
         },
         {
          "A": 24,
          "B": 61,
          "C": 82,
          "D": 95
         },
         {
          "A": 68,
          "B": 58,
          "C": 0,
          "D": 82
         },
         {
          "A": 21,
          "B": 22,
          "C": 9,
          "D": 77
         },
         {
          "A": 99,
          "B": 9,
          "C": 39,
          "D": 43
         },
         {
          "A": 16,
          "B": 29,
          "C": 80,
          "D": 66
         },
         {
          "A": 86,
          "B": 51,
          "C": 10,
          "D": 3
         },
         {
          "A": 38,
          "B": 95,
          "C": 0,
          "D": 53
         },
         {
          "A": 96,
          "B": 29,
          "C": 6,
          "D": 95
         },
         {
          "A": 14,
          "B": 69,
          "C": 85,
          "D": 46
         },
         {
          "A": 66,
          "B": 44,
          "C": 46,
          "D": 71
         },
         {
          "A": 1,
          "B": 0,
          "C": 27,
          "D": 81
         },
         {
          "A": 31,
          "B": 92,
          "C": 7,
          "D": 59
         },
         {
          "A": 11,
          "B": 11,
          "C": 62,
          "D": 30
         },
         {
          "A": 59,
          "B": 69,
          "C": 24,
          "D": 58
         },
         {
          "A": 34,
          "B": 76,
          "C": 8,
          "D": 23
         },
         {
          "A": 73,
          "B": 51,
          "C": 27,
          "D": 28
         },
         {
          "A": 58,
          "B": 71,
          "C": 85,
          "D": 17
         },
         {
          "A": 86,
          "B": 60,
          "C": 48,
          "D": 25
         },
         {
          "A": 71,
          "B": 98,
          "C": 97,
          "D": 61
         },
         {
          "A": 30,
          "B": 11,
          "C": 1,
          "D": 7
         },
         {
          "A": 56,
          "B": 76,
          "C": 45,
          "D": 5
         },
         {
          "A": 32,
          "B": 25,
          "C": 7,
          "D": 86
         },
         {
          "A": 80,
          "B": 34,
          "C": 57,
          "D": 36
         },
         {
          "A": 94,
          "B": 79,
          "C": 17,
          "D": 76
         },
         {
          "A": 89,
          "B": 71,
          "C": 35,
          "D": 22
         },
         {
          "A": 21,
          "B": 21,
          "C": 19,
          "D": 39
         },
         {
          "A": 89,
          "B": 86,
          "C": 27,
          "D": 62
         },
         {
          "A": 9,
          "B": 72,
          "C": 61,
          "D": 3
         },
         {
          "A": 44,
          "B": 44,
          "C": 68,
          "D": 46
         },
         {
          "A": 88,
          "B": 82,
          "C": 10,
          "D": 78
         },
         {
          "A": 47,
          "B": 90,
          "C": 66,
          "D": 85
         },
         {
          "A": 85,
          "B": 98,
          "C": 39,
          "D": 82
         },
         {
          "A": 56,
          "B": 76,
          "C": 83,
          "D": 95
         },
         {
          "A": 79,
          "B": 11,
          "C": 13,
          "D": 29
         },
         {
          "A": 69,
          "B": 35,
          "C": 62,
          "D": 21
         },
         {
          "A": 93,
          "B": 21,
          "C": 56,
          "D": 53
         },
         {
          "A": 94,
          "B": 96,
          "C": 76,
          "D": 22
         },
         {
          "A": 37,
          "B": 83,
          "C": 21,
          "D": 94
         },
         {
          "A": 46,
          "B": 25,
          "C": 52,
          "D": 87
         },
         {
          "A": 59,
          "B": 98,
          "C": 79,
          "D": 57
         },
         {
          "A": 50,
          "B": 81,
          "C": 82,
          "D": 94
         },
         {
          "A": 36,
          "B": 33,
          "C": 92,
          "D": 16
         },
         {
          "A": 66,
          "B": 29,
          "C": 23,
          "D": 19
         },
         {
          "A": 19,
          "B": 81,
          "C": 87,
          "D": 64
         },
         {
          "A": 74,
          "B": 11,
          "C": 14,
          "D": 11
         },
         {
          "A": 89,
          "B": 22,
          "C": 44,
          "D": 78
         },
         {
          "A": 67,
          "B": 95,
          "C": 97,
          "D": 31
         },
         {
          "A": 19,
          "B": 53,
          "C": 9,
          "D": 3
         },
         {
          "A": 18,
          "B": 91,
          "C": 74,
          "D": 20
         },
         {
          "A": 1,
          "B": 39,
          "C": 9,
          "D": 16
         },
         {
          "A": 53,
          "B": 13,
          "C": 32,
          "D": 39
         },
         {
          "A": 57,
          "B": 24,
          "C": 55,
          "D": 96
         },
         {
          "A": 25,
          "B": 6,
          "C": 98,
          "D": 74
         },
         {
          "A": 59,
          "B": 51,
          "C": 26,
          "D": 33
         },
         {
          "A": 82,
          "B": 62,
          "C": 92,
          "D": 35
         },
         {
          "A": 22,
          "B": 17,
          "C": 36,
          "D": 79
         },
         {
          "A": 24,
          "B": 96,
          "C": 68,
          "D": 62
         },
         {
          "A": 62,
          "B": 89,
          "C": 16,
          "D": 72
         },
         {
          "A": 94,
          "B": 14,
          "C": 79,
          "D": 68
         },
         {
          "A": 52,
          "B": 20,
          "C": 58,
          "D": 67
         },
         {
          "A": 16,
          "B": 32,
          "C": 67,
          "D": 52
         },
         {
          "A": 5,
          "B": 85,
          "C": 40,
          "D": 37
         },
         {
          "A": 21,
          "B": 19,
          "C": 40,
          "D": 49
         },
         {
          "A": 90,
          "B": 34,
          "C": 35,
          "D": 16
         },
         {
          "A": 3,
          "B": 28,
          "C": 37,
          "D": 75
         },
         {
          "A": 46,
          "B": 43,
          "C": 10,
          "D": 83
         },
         {
          "A": 32,
          "B": 96,
          "C": 50,
          "D": 70
         },
         {
          "A": 89,
          "B": 38,
          "C": 11,
          "D": 16
         },
         {
          "A": 40,
          "B": 9,
          "C": 84,
          "D": 65
         },
         {
          "A": 94,
          "B": 97,
          "C": 85,
          "D": 82
         },
         {
          "A": 87,
          "B": 55,
          "C": 72,
          "D": 20
         },
         {
          "A": 24,
          "B": 62,
          "C": 72,
          "D": 10
         },
         {
          "A": 85,
          "B": 95,
          "C": 10,
          "D": 97
         },
         {
          "A": 91,
          "B": 57,
          "C": 71,
          "D": 73
         },
         {
          "A": 81,
          "B": 35,
          "C": 81,
          "D": 90
         },
         {
          "A": 2,
          "B": 80,
          "C": 12,
          "D": 9
         },
         {
          "A": 51,
          "B": 93,
          "C": 25,
          "D": 57
         },
         {
          "A": 59,
          "B": 0,
          "C": 15,
          "D": 63
         },
         {
          "A": 50,
          "B": 9,
          "C": 0,
          "D": 51
         },
         {
          "A": 64,
          "B": 97,
          "C": 69,
          "D": 13
         },
         {
          "A": 63,
          "B": 46,
          "C": 73,
          "D": 47
         },
         {
          "A": 1,
          "B": 16,
          "C": 97,
          "D": 24
         },
         {
          "A": 5,
          "B": 23,
          "C": 30,
          "D": 20
         },
         {
          "A": 42,
          "B": 77,
          "C": 47,
          "D": 60
         },
         {
          "A": 99,
          "B": 56,
          "C": 10,
          "D": 4
         },
         {
          "A": 10,
          "B": 58,
          "C": 40,
          "D": 89
         },
         {
          "A": 2,
          "B": 69,
          "C": 42,
          "D": 93
         },
         {
          "A": 76,
          "B": 51,
          "C": 12,
          "D": 2
         },
         {
          "A": 56,
          "B": 88,
          "C": 95,
          "D": 35
         },
         {
          "A": 23,
          "B": 73,
          "C": 5,
          "D": 18
         }
        ]
       },
       "encoding": {
        "x": {
         "field": "A",
         "type": "quantitative"
        },
        "y": {
         "field": "B",
         "type": "quantitative"
        }
       },
       "mark": "point"
      },
      "text/plain": [
       "<VegaLite 4 object>\n",
       "\n",
       "If you see this message, it means the renderer has not been properly enabled\n",
       "for the frontend that you are using. For more information, see\n",
       "https://altair-viz.github.io/user_guide/troubleshooting.html\n"
      ]
     },
     "execution_count": 3,
     "metadata": {},
     "output_type": "execute_result"
    }
   ],
   "source": [
    "import altair as alt\n",
    "import pandas as pd\n",
    "import numpy as np\n",
    "\n",
    "#alt.renderers.enable('notebook')\n",
    "# alt.renderers.enable('default')\n",
    "alt.renderers.enable('mimetype')\n",
    "\n",
    "# This is a comment\n",
    "(\n",
    "  alt.Chart( pd.DataFrame(np.random.randint(0,100,size=(100, 4)), columns=list('ABCD')) )\n",
    "  .mark_point()\n",
    "  .encode(\n",
    "    x='A',\n",
    "    y='B'\n",
    "  )\n",
    ")"
   ]
  },
  {
   "cell_type": "code",
   "execution_count": null,
   "metadata": {},
   "outputs": [],
   "source": []
  }
 ],
 "metadata": {
  "kernelspec": {
   "display_name": "Python 3.9.13 64-bit",
   "language": "python",
   "name": "python3"
  },
  "language_info": {
   "codemirror_mode": {
    "name": "ipython",
    "version": 3
   },
   "file_extension": ".py",
   "mimetype": "text/x-python",
   "name": "python",
   "nbconvert_exporter": "python",
   "pygments_lexer": "ipython3",
   "version": "3.9.13"
  },
  "orig_nbformat": 4,
  "vscode": {
   "interpreter": {
    "hash": "b0fa6594d8f4cbf19f97940f81e996739fb7646882a419484c72d19e05852a7e"
   }
  }
 },
 "nbformat": 4,
 "nbformat_minor": 2
}
