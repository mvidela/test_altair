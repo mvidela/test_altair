{
 "cells": [
  {
   "cell_type": "code",
   "execution_count": 1,
   "metadata": {},
   "outputs": [
    {
     "data": {
      "text/html": [
       "\n",
       "<div id=\"altair-viz-ba17d692dbcc46748222740d83e71dad\"></div>\n",
       "<script type=\"text/javascript\">\n",
       "  var VEGA_DEBUG = (typeof VEGA_DEBUG == \"undefined\") ? {} : VEGA_DEBUG;\n",
       "  (function(spec, embedOpt){\n",
       "    let outputDiv = document.currentScript.previousElementSibling;\n",
       "    if (outputDiv.id !== \"altair-viz-ba17d692dbcc46748222740d83e71dad\") {\n",
       "      outputDiv = document.getElementById(\"altair-viz-ba17d692dbcc46748222740d83e71dad\");\n",
       "    }\n",
       "    const paths = {\n",
       "      \"vega\": \"https://cdn.jsdelivr.net/npm//vega@5?noext\",\n",
       "      \"vega-lib\": \"https://cdn.jsdelivr.net/npm//vega-lib?noext\",\n",
       "      \"vega-lite\": \"https://cdn.jsdelivr.net/npm//vega-lite@4.17.0?noext\",\n",
       "      \"vega-embed\": \"https://cdn.jsdelivr.net/npm//vega-embed@6?noext\",\n",
       "    };\n",
       "\n",
       "    function maybeLoadScript(lib, version) {\n",
       "      var key = `${lib.replace(\"-\", \"\")}_version`;\n",
       "      return (VEGA_DEBUG[key] == version) ?\n",
       "        Promise.resolve(paths[lib]) :\n",
       "        new Promise(function(resolve, reject) {\n",
       "          var s = document.createElement('script');\n",
       "          document.getElementsByTagName(\"head\")[0].appendChild(s);\n",
       "          s.async = true;\n",
       "          s.onload = () => {\n",
       "            VEGA_DEBUG[key] = version;\n",
       "            return resolve(paths[lib]);\n",
       "          };\n",
       "          s.onerror = () => reject(`Error loading script: ${paths[lib]}`);\n",
       "          s.src = paths[lib];\n",
       "        });\n",
       "    }\n",
       "\n",
       "    function showError(err) {\n",
       "      outputDiv.innerHTML = `<div class=\"error\" style=\"color:red;\">${err}</div>`;\n",
       "      throw err;\n",
       "    }\n",
       "\n",
       "    function displayChart(vegaEmbed) {\n",
       "      vegaEmbed(outputDiv, spec, embedOpt)\n",
       "        .catch(err => showError(`Javascript Error: ${err.message}<br>This usually means there's a typo in your chart specification. See the javascript console for the full traceback.`));\n",
       "    }\n",
       "\n",
       "    if(typeof define === \"function\" && define.amd) {\n",
       "      requirejs.config({paths});\n",
       "      require([\"vega-embed\"], displayChart, err => showError(`Error loading script: ${err.message}`));\n",
       "    } else {\n",
       "      maybeLoadScript(\"vega\", \"5\")\n",
       "        .then(() => maybeLoadScript(\"vega-lite\", \"4.17.0\"))\n",
       "        .then(() => maybeLoadScript(\"vega-embed\", \"6\"))\n",
       "        .catch(showError)\n",
       "        .then(() => displayChart(vegaEmbed));\n",
       "    }\n",
       "  })({\"config\": {\"view\": {\"continuousWidth\": 400, \"continuousHeight\": 300}}, \"data\": {\"name\": \"data-0204ea758a922616fc97cb201f30e944\"}, \"mark\": \"point\", \"encoding\": {\"x\": {\"field\": \"A\", \"type\": \"quantitative\"}, \"y\": {\"field\": \"B\", \"type\": \"quantitative\"}}, \"$schema\": \"https://vega.github.io/schema/vega-lite/v4.17.0.json\", \"datasets\": {\"data-0204ea758a922616fc97cb201f30e944\": [{\"A\": 44, \"B\": 81, \"C\": 35, \"D\": 19}, {\"A\": 64, \"B\": 23, \"C\": 8, \"D\": 88}, {\"A\": 60, \"B\": 92, \"C\": 19, \"D\": 44}, {\"A\": 75, \"B\": 13, \"C\": 10, \"D\": 41}, {\"A\": 67, \"B\": 7, \"C\": 48, \"D\": 90}, {\"A\": 6, \"B\": 22, \"C\": 44, \"D\": 87}, {\"A\": 39, \"B\": 67, \"C\": 7, \"D\": 31}, {\"A\": 22, \"B\": 37, \"C\": 90, \"D\": 52}, {\"A\": 79, \"B\": 38, \"C\": 6, \"D\": 59}, {\"A\": 42, \"B\": 93, \"C\": 29, \"D\": 92}, {\"A\": 58, \"B\": 53, \"C\": 57, \"D\": 57}, {\"A\": 53, \"B\": 57, \"C\": 15, \"D\": 8}, {\"A\": 63, \"B\": 25, \"C\": 56, \"D\": 26}, {\"A\": 85, \"B\": 48, \"C\": 6, \"D\": 55}, {\"A\": 17, \"B\": 56, \"C\": 67, \"D\": 36}, {\"A\": 49, \"B\": 33, \"C\": 74, \"D\": 43}, {\"A\": 50, \"B\": 86, \"C\": 58, \"D\": 64}, {\"A\": 57, \"B\": 65, \"C\": 96, \"D\": 74}, {\"A\": 35, \"B\": 48, \"C\": 43, \"D\": 78}, {\"A\": 8, \"B\": 18, \"C\": 15, \"D\": 6}, {\"A\": 12, \"B\": 55, \"C\": 21, \"D\": 98}, {\"A\": 19, \"B\": 52, \"C\": 73, \"D\": 52}, {\"A\": 88, \"B\": 10, \"C\": 45, \"D\": 35}, {\"A\": 69, \"B\": 18, \"C\": 27, \"D\": 15}, {\"A\": 85, \"B\": 38, \"C\": 37, \"D\": 23}, {\"A\": 16, \"B\": 0, \"C\": 56, \"D\": 75}, {\"A\": 19, \"B\": 88, \"C\": 60, \"D\": 75}, {\"A\": 43, \"B\": 59, \"C\": 25, \"D\": 80}, {\"A\": 95, \"B\": 68, \"C\": 14, \"D\": 27}, {\"A\": 50, \"B\": 12, \"C\": 82, \"D\": 1}, {\"A\": 16, \"B\": 6, \"C\": 98, \"D\": 66}, {\"A\": 89, \"B\": 40, \"C\": 71, \"D\": 45}, {\"A\": 23, \"B\": 20, \"C\": 16, \"D\": 66}, {\"A\": 88, \"B\": 39, \"C\": 79, \"D\": 87}, {\"A\": 99, \"B\": 48, \"C\": 37, \"D\": 5}, {\"A\": 24, \"B\": 6, \"C\": 62, \"D\": 89}, {\"A\": 43, \"B\": 97, \"C\": 72, \"D\": 79}, {\"A\": 33, \"B\": 89, \"C\": 81, \"D\": 35}, {\"A\": 51, \"B\": 25, \"C\": 49, \"D\": 2}, {\"A\": 44, \"B\": 22, \"C\": 17, \"D\": 29}, {\"A\": 42, \"B\": 36, \"C\": 28, \"D\": 16}, {\"A\": 58, \"B\": 78, \"C\": 25, \"D\": 94}, {\"A\": 81, \"B\": 28, \"C\": 21, \"D\": 14}, {\"A\": 43, \"B\": 72, \"C\": 53, \"D\": 53}, {\"A\": 69, \"B\": 69, \"C\": 43, \"D\": 36}, {\"A\": 59, \"B\": 81, \"C\": 20, \"D\": 29}, {\"A\": 56, \"B\": 44, \"C\": 55, \"D\": 74}, {\"A\": 72, \"B\": 89, \"C\": 59, \"D\": 39}, {\"A\": 92, \"B\": 7, \"C\": 55, \"D\": 11}, {\"A\": 37, \"B\": 19, \"C\": 95, \"D\": 91}, {\"A\": 38, \"B\": 12, \"C\": 33, \"D\": 83}, {\"A\": 37, \"B\": 89, \"C\": 96, \"D\": 62}, {\"A\": 95, \"B\": 80, \"C\": 13, \"D\": 80}, {\"A\": 66, \"B\": 34, \"C\": 94, \"D\": 18}, {\"A\": 65, \"B\": 23, \"C\": 25, \"D\": 49}, {\"A\": 90, \"B\": 28, \"C\": 77, \"D\": 55}, {\"A\": 99, \"B\": 19, \"C\": 67, \"D\": 25}, {\"A\": 60, \"B\": 88, \"C\": 28, \"D\": 86}, {\"A\": 97, \"B\": 0, \"C\": 76, \"D\": 35}, {\"A\": 90, \"B\": 44, \"C\": 78, \"D\": 11}, {\"A\": 47, \"B\": 50, \"C\": 57, \"D\": 33}, {\"A\": 98, \"B\": 26, \"C\": 39, \"D\": 86}, {\"A\": 16, \"B\": 30, \"C\": 3, \"D\": 85}, {\"A\": 47, \"B\": 63, \"C\": 82, \"D\": 42}, {\"A\": 96, \"B\": 77, \"C\": 82, \"D\": 8}, {\"A\": 70, \"B\": 21, \"C\": 33, \"D\": 54}, {\"A\": 23, \"B\": 31, \"C\": 70, \"D\": 84}, {\"A\": 24, \"B\": 79, \"C\": 44, \"D\": 79}, {\"A\": 72, \"B\": 7, \"C\": 0, \"D\": 18}, {\"A\": 83, \"B\": 96, \"C\": 57, \"D\": 30}, {\"A\": 45, \"B\": 63, \"C\": 24, \"D\": 64}, {\"A\": 58, \"B\": 31, \"C\": 3, \"D\": 41}, {\"A\": 90, \"B\": 16, \"C\": 25, \"D\": 98}, {\"A\": 96, \"B\": 75, \"C\": 95, \"D\": 27}, {\"A\": 11, \"B\": 68, \"C\": 16, \"D\": 27}, {\"A\": 82, \"B\": 46, \"C\": 1, \"D\": 96}, {\"A\": 14, \"B\": 7, \"C\": 43, \"D\": 62}, {\"A\": 60, \"B\": 1, \"C\": 11, \"D\": 85}, {\"A\": 40, \"B\": 42, \"C\": 53, \"D\": 12}, {\"A\": 37, \"B\": 30, \"C\": 82, \"D\": 43}, {\"A\": 62, \"B\": 24, \"C\": 14, \"D\": 59}, {\"A\": 23, \"B\": 94, \"C\": 80, \"D\": 25}, {\"A\": 52, \"B\": 48, \"C\": 86, \"D\": 68}, {\"A\": 54, \"B\": 4, \"C\": 57, \"D\": 13}, {\"A\": 80, \"B\": 45, \"C\": 17, \"D\": 71}, {\"A\": 77, \"B\": 92, \"C\": 53, \"D\": 14}, {\"A\": 16, \"B\": 25, \"C\": 51, \"D\": 47}, {\"A\": 66, \"B\": 63, \"C\": 71, \"D\": 4}, {\"A\": 51, \"B\": 87, \"C\": 1, \"D\": 6}, {\"A\": 73, \"B\": 98, \"C\": 2, \"D\": 42}, {\"A\": 70, \"B\": 12, \"C\": 83, \"D\": 11}, {\"A\": 79, \"B\": 92, \"C\": 5, \"D\": 56}, {\"A\": 87, \"B\": 32, \"C\": 0, \"D\": 67}, {\"A\": 23, \"B\": 33, \"C\": 68, \"D\": 89}, {\"A\": 77, \"B\": 13, \"C\": 32, \"D\": 1}, {\"A\": 54, \"B\": 83, \"C\": 6, \"D\": 60}, {\"A\": 2, \"B\": 64, \"C\": 53, \"D\": 79}, {\"A\": 81, \"B\": 87, \"C\": 42, \"D\": 55}, {\"A\": 96, \"B\": 92, \"C\": 18, \"D\": 21}, {\"A\": 31, \"B\": 87, \"C\": 39, \"D\": 11}]}}, {\"mode\": \"vega-lite\"});\n",
       "</script>"
      ],
      "text/plain": [
       "alt.Chart(...)"
      ]
     },
     "execution_count": 1,
     "metadata": {},
     "output_type": "execute_result"
    }
   ],
   "source": [
    "import altair as alt\n",
    "import pandas as pd\n",
    "import numpy as np\n",
    "\n",
    "alt.renderers.enable('notebook')\n",
    "\n",
    "# This is a comment\n",
    "(\n",
    "  alt.Chart( pd.DataFrame(np.random.randint(0,100,size=(100, 4)), columns=list('ABCD')) )\n",
    "  .mark_point()\n",
    "  .encode(\n",
    "    x='A',\n",
    "    y='B'\n",
    "  )\n",
    ")"
   ]
  },
  {
   "cell_type": "code",
   "execution_count": null,
   "metadata": {},
   "outputs": [],
   "source": []
  }
 ],
 "metadata": {
  "kernelspec": {
   "display_name": "Python 3.9.13 64-bit",
   "language": "python",
   "name": "python3"
  },
  "language_info": {
   "codemirror_mode": {
    "name": "ipython",
    "version": 3
   },
   "file_extension": ".py",
   "mimetype": "text/x-python",
   "name": "python",
   "nbconvert_exporter": "python",
   "pygments_lexer": "ipython3",
   "version": "3.9.13"
  },
  "orig_nbformat": 4,
  "vscode": {
   "interpreter": {
    "hash": "b0fa6594d8f4cbf19f97940f81e996739fb7646882a419484c72d19e05852a7e"
   }
  }
 },
 "nbformat": 4,
 "nbformat_minor": 2
}
