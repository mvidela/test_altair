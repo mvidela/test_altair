{
 "cells": [
  {
   "cell_type": "code",
   "execution_count": 11,
   "metadata": {},
   "outputs": [
    {
     "data": {
      "text/html": [
       "\n",
       "<div id=\"altair-viz-24d2b12965ef4838b626e93f421d6084\"></div>\n",
       "<script type=\"text/javascript\">\n",
       "  var VEGA_DEBUG = (typeof VEGA_DEBUG == \"undefined\") ? {} : VEGA_DEBUG;\n",
       "  (function(spec, embedOpt){\n",
       "    let outputDiv = document.currentScript.previousElementSibling;\n",
       "    if (outputDiv.id !== \"altair-viz-24d2b12965ef4838b626e93f421d6084\") {\n",
       "      outputDiv = document.getElementById(\"altair-viz-24d2b12965ef4838b626e93f421d6084\");\n",
       "    }\n",
       "    const paths = {\n",
       "      \"vega\": \"https://cdn.jsdelivr.net/npm//vega@5?noext\",\n",
       "      \"vega-lib\": \"https://cdn.jsdelivr.net/npm//vega-lib?noext\",\n",
       "      \"vega-lite\": \"https://cdn.jsdelivr.net/npm//vega-lite@4.17.0?noext\",\n",
       "      \"vega-embed\": \"https://cdn.jsdelivr.net/npm//vega-embed@6?noext\",\n",
       "    };\n",
       "\n",
       "    function maybeLoadScript(lib, version) {\n",
       "      var key = `${lib.replace(\"-\", \"\")}_version`;\n",
       "      return (VEGA_DEBUG[key] == version) ?\n",
       "        Promise.resolve(paths[lib]) :\n",
       "        new Promise(function(resolve, reject) {\n",
       "          var s = document.createElement('script');\n",
       "          document.getElementsByTagName(\"head\")[0].appendChild(s);\n",
       "          s.async = true;\n",
       "          s.onload = () => {\n",
       "            VEGA_DEBUG[key] = version;\n",
       "            return resolve(paths[lib]);\n",
       "          };\n",
       "          s.onerror = () => reject(`Error loading script: ${paths[lib]}`);\n",
       "          s.src = paths[lib];\n",
       "        });\n",
       "    }\n",
       "\n",
       "    function showError(err) {\n",
       "      outputDiv.innerHTML = `<div class=\"error\" style=\"color:red;\">${err}</div>`;\n",
       "      throw err;\n",
       "    }\n",
       "\n",
       "    function displayChart(vegaEmbed) {\n",
       "      vegaEmbed(outputDiv, spec, embedOpt)\n",
       "        .catch(err => showError(`Javascript Error: ${err.message}<br>This usually means there's a typo in your chart specification. See the javascript console for the full traceback.`));\n",
       "    }\n",
       "\n",
       "    if(typeof define === \"function\" && define.amd) {\n",
       "      requirejs.config({paths});\n",
       "      require([\"vega-embed\"], displayChart, err => showError(`Error loading script: ${err.message}`));\n",
       "    } else {\n",
       "      maybeLoadScript(\"vega\", \"5\")\n",
       "        .then(() => maybeLoadScript(\"vega-lite\", \"4.17.0\"))\n",
       "        .then(() => maybeLoadScript(\"vega-embed\", \"6\"))\n",
       "        .catch(showError)\n",
       "        .then(() => displayChart(vegaEmbed));\n",
       "    }\n",
       "  })({\"config\": {\"view\": {\"continuousWidth\": 400, \"continuousHeight\": 300}}, \"data\": {\"name\": \"data-80e90405a55fd9b6d144064e455399ff\"}, \"mark\": \"point\", \"encoding\": {\"x\": {\"field\": \"A\", \"type\": \"quantitative\"}, \"y\": {\"field\": \"B\", \"type\": \"quantitative\"}}, \"$schema\": \"https://vega.github.io/schema/vega-lite/v4.17.0.json\", \"datasets\": {\"data-80e90405a55fd9b6d144064e455399ff\": [{\"A\": 91, \"B\": 45, \"C\": 8, \"D\": 36}, {\"A\": 95, \"B\": 6, \"C\": 2, \"D\": 93}, {\"A\": 92, \"B\": 44, \"C\": 96, \"D\": 71}, {\"A\": 63, \"B\": 79, \"C\": 77, \"D\": 15}, {\"A\": 12, \"B\": 66, \"C\": 37, \"D\": 58}, {\"A\": 45, \"B\": 62, \"C\": 62, \"D\": 73}, {\"A\": 80, \"B\": 30, \"C\": 35, \"D\": 24}, {\"A\": 95, \"B\": 72, \"C\": 82, \"D\": 49}, {\"A\": 97, \"B\": 55, \"C\": 0, \"D\": 79}, {\"A\": 4, \"B\": 51, \"C\": 97, \"D\": 35}, {\"A\": 98, \"B\": 26, \"C\": 7, \"D\": 51}, {\"A\": 63, \"B\": 90, \"C\": 14, \"D\": 3}, {\"A\": 89, \"B\": 59, \"C\": 65, \"D\": 6}, {\"A\": 72, \"B\": 65, \"C\": 47, \"D\": 44}, {\"A\": 56, \"B\": 89, \"C\": 22, \"D\": 93}, {\"A\": 45, \"B\": 30, \"C\": 37, \"D\": 25}, {\"A\": 79, \"B\": 33, \"C\": 36, \"D\": 10}, {\"A\": 11, \"B\": 58, \"C\": 91, \"D\": 89}, {\"A\": 93, \"B\": 84, \"C\": 19, \"D\": 11}, {\"A\": 98, \"B\": 58, \"C\": 55, \"D\": 35}, {\"A\": 59, \"B\": 69, \"C\": 84, \"D\": 26}, {\"A\": 34, \"B\": 47, \"C\": 39, \"D\": 76}, {\"A\": 87, \"B\": 78, \"C\": 48, \"D\": 73}, {\"A\": 4, \"B\": 6, \"C\": 4, \"D\": 41}, {\"A\": 50, \"B\": 50, \"C\": 76, \"D\": 22}, {\"A\": 80, \"B\": 9, \"C\": 39, \"D\": 3}, {\"A\": 35, \"B\": 22, \"C\": 9, \"D\": 31}, {\"A\": 43, \"B\": 0, \"C\": 99, \"D\": 27}, {\"A\": 39, \"B\": 13, \"C\": 64, \"D\": 84}, {\"A\": 70, \"B\": 5, \"C\": 15, \"D\": 76}, {\"A\": 20, \"B\": 42, \"C\": 63, \"D\": 23}, {\"A\": 59, \"B\": 86, \"C\": 31, \"D\": 4}, {\"A\": 16, \"B\": 35, \"C\": 40, \"D\": 52}, {\"A\": 26, \"B\": 54, \"C\": 58, \"D\": 15}, {\"A\": 57, \"B\": 92, \"C\": 13, \"D\": 60}, {\"A\": 64, \"B\": 60, \"C\": 36, \"D\": 51}, {\"A\": 48, \"B\": 56, \"C\": 4, \"D\": 25}, {\"A\": 3, \"B\": 76, \"C\": 39, \"D\": 2}, {\"A\": 24, \"B\": 72, \"C\": 34, \"D\": 19}, {\"A\": 44, \"B\": 78, \"C\": 21, \"D\": 42}, {\"A\": 56, \"B\": 78, \"C\": 35, \"D\": 57}, {\"A\": 34, \"B\": 18, \"C\": 82, \"D\": 12}, {\"A\": 9, \"B\": 53, \"C\": 70, \"D\": 40}, {\"A\": 97, \"B\": 40, \"C\": 64, \"D\": 36}, {\"A\": 65, \"B\": 54, \"C\": 83, \"D\": 33}, {\"A\": 94, \"B\": 42, \"C\": 83, \"D\": 86}, {\"A\": 40, \"B\": 72, \"C\": 90, \"D\": 31}, {\"A\": 82, \"B\": 49, \"C\": 68, \"D\": 56}, {\"A\": 15, \"B\": 90, \"C\": 41, \"D\": 98}, {\"A\": 55, \"B\": 98, \"C\": 53, \"D\": 93}, {\"A\": 69, \"B\": 76, \"C\": 99, \"D\": 63}, {\"A\": 0, \"B\": 7, \"C\": 57, \"D\": 68}, {\"A\": 11, \"B\": 64, \"C\": 23, \"D\": 15}, {\"A\": 85, \"B\": 27, \"C\": 26, \"D\": 27}, {\"A\": 63, \"B\": 21, \"C\": 56, \"D\": 48}, {\"A\": 14, \"B\": 46, \"C\": 28, \"D\": 64}, {\"A\": 58, \"B\": 77, \"C\": 85, \"D\": 63}, {\"A\": 13, \"B\": 26, \"C\": 93, \"D\": 32}, {\"A\": 61, \"B\": 94, \"C\": 64, \"D\": 73}, {\"A\": 22, \"B\": 8, \"C\": 96, \"D\": 93}, {\"A\": 18, \"B\": 98, \"C\": 65, \"D\": 44}, {\"A\": 20, \"B\": 77, \"C\": 10, \"D\": 81}, {\"A\": 63, \"B\": 24, \"C\": 18, \"D\": 28}, {\"A\": 97, \"B\": 36, \"C\": 92, \"D\": 32}, {\"A\": 72, \"B\": 36, \"C\": 67, \"D\": 5}, {\"A\": 63, \"B\": 22, \"C\": 64, \"D\": 37}, {\"A\": 96, \"B\": 27, \"C\": 59, \"D\": 81}, {\"A\": 26, \"B\": 28, \"C\": 23, \"D\": 1}, {\"A\": 88, \"B\": 92, \"C\": 57, \"D\": 59}, {\"A\": 16, \"B\": 33, \"C\": 82, \"D\": 50}, {\"A\": 4, \"B\": 54, \"C\": 10, \"D\": 8}, {\"A\": 5, \"B\": 85, \"C\": 69, \"D\": 81}, {\"A\": 62, \"B\": 63, \"C\": 73, \"D\": 54}, {\"A\": 63, \"B\": 32, \"C\": 29, \"D\": 75}, {\"A\": 32, \"B\": 17, \"C\": 76, \"D\": 84}, {\"A\": 84, \"B\": 98, \"C\": 73, \"D\": 67}, {\"A\": 37, \"B\": 8, \"C\": 96, \"D\": 66}, {\"A\": 93, \"B\": 75, \"C\": 92, \"D\": 32}, {\"A\": 83, \"B\": 16, \"C\": 16, \"D\": 80}, {\"A\": 2, \"B\": 72, \"C\": 69, \"D\": 56}, {\"A\": 62, \"B\": 7, \"C\": 36, \"D\": 48}, {\"A\": 90, \"B\": 54, \"C\": 18, \"D\": 49}, {\"A\": 15, \"B\": 58, \"C\": 24, \"D\": 37}, {\"A\": 42, \"B\": 36, \"C\": 60, \"D\": 44}, {\"A\": 90, \"B\": 21, \"C\": 24, \"D\": 55}, {\"A\": 5, \"B\": 38, \"C\": 95, \"D\": 97}, {\"A\": 35, \"B\": 68, \"C\": 7, \"D\": 15}, {\"A\": 98, \"B\": 38, \"C\": 37, \"D\": 45}, {\"A\": 74, \"B\": 21, \"C\": 47, \"D\": 27}, {\"A\": 66, \"B\": 61, \"C\": 60, \"D\": 63}, {\"A\": 78, \"B\": 99, \"C\": 94, \"D\": 1}, {\"A\": 8, \"B\": 54, \"C\": 9, \"D\": 17}, {\"A\": 47, \"B\": 77, \"C\": 85, \"D\": 61}, {\"A\": 27, \"B\": 20, \"C\": 5, \"D\": 55}, {\"A\": 17, \"B\": 32, \"C\": 62, \"D\": 96}, {\"A\": 6, \"B\": 81, \"C\": 83, \"D\": 24}, {\"A\": 89, \"B\": 3, \"C\": 45, \"D\": 64}, {\"A\": 17, \"B\": 4, \"C\": 26, \"D\": 92}, {\"A\": 59, \"B\": 19, \"C\": 41, \"D\": 1}, {\"A\": 24, \"B\": 80, \"C\": 35, \"D\": 10}]}}, {\"mode\": \"vega-lite\"});\n",
       "</script>"
      ],
      "text/plain": [
       "alt.Chart(...)"
      ]
     },
     "execution_count": 11,
     "metadata": {},
     "output_type": "execute_result"
    }
   ],
   "source": [
    "import altair as alt\n",
    "import pandas as pd\n",
    "import numpy as np\n",
    "\n",
    "# alt.renderers.enable('notebook')\n",
    "alt.renderers.enable('default')\n",
    "# alt.renderers.enable('mimetype')\n",
    "# alt.renderers.enable('jupyterlab')\n",
    "# alt.renderers.enable('svg')\n",
    "\n",
    "# This is a comment\n",
    "df = pd.DataFrame(np.random.randint(\n",
    "    0, 100, size=(100, 4)), columns=list('ABCD'))\n",
    "(\n",
    "  alt.Chart(df)\n",
    "  .mark_point()\n",
    "  .encode(\n",
    "    x='A',\n",
    "    y='B'\n",
    "  )\n",
    ")"
   ]
  },
  {
   "cell_type": "code",
   "execution_count": 12,
   "metadata": {},
   "outputs": [
    {
     "data": {
      "text/html": [
       "\n",
       "<div id=\"altair-viz-0dbf8c6bde5b439aa506f111fc1f0d63\"></div>\n",
       "<script type=\"text/javascript\">\n",
       "  var VEGA_DEBUG = (typeof VEGA_DEBUG == \"undefined\") ? {} : VEGA_DEBUG;\n",
       "  (function(spec, embedOpt){\n",
       "    let outputDiv = document.currentScript.previousElementSibling;\n",
       "    if (outputDiv.id !== \"altair-viz-0dbf8c6bde5b439aa506f111fc1f0d63\") {\n",
       "      outputDiv = document.getElementById(\"altair-viz-0dbf8c6bde5b439aa506f111fc1f0d63\");\n",
       "    }\n",
       "    const paths = {\n",
       "      \"vega\": \"https://cdn.jsdelivr.net/npm//vega@5?noext\",\n",
       "      \"vega-lib\": \"https://cdn.jsdelivr.net/npm//vega-lib?noext\",\n",
       "      \"vega-lite\": \"https://cdn.jsdelivr.net/npm//vega-lite@4.17.0?noext\",\n",
       "      \"vega-embed\": \"https://cdn.jsdelivr.net/npm//vega-embed@6?noext\",\n",
       "    };\n",
       "\n",
       "    function maybeLoadScript(lib, version) {\n",
       "      var key = `${lib.replace(\"-\", \"\")}_version`;\n",
       "      return (VEGA_DEBUG[key] == version) ?\n",
       "        Promise.resolve(paths[lib]) :\n",
       "        new Promise(function(resolve, reject) {\n",
       "          var s = document.createElement('script');\n",
       "          document.getElementsByTagName(\"head\")[0].appendChild(s);\n",
       "          s.async = true;\n",
       "          s.onload = () => {\n",
       "            VEGA_DEBUG[key] = version;\n",
       "            return resolve(paths[lib]);\n",
       "          };\n",
       "          s.onerror = () => reject(`Error loading script: ${paths[lib]}`);\n",
       "          s.src = paths[lib];\n",
       "        });\n",
       "    }\n",
       "\n",
       "    function showError(err) {\n",
       "      outputDiv.innerHTML = `<div class=\"error\" style=\"color:red;\">${err}</div>`;\n",
       "      throw err;\n",
       "    }\n",
       "\n",
       "    function displayChart(vegaEmbed) {\n",
       "      vegaEmbed(outputDiv, spec, embedOpt)\n",
       "        .catch(err => showError(`Javascript Error: ${err.message}<br>This usually means there's a typo in your chart specification. See the javascript console for the full traceback.`));\n",
       "    }\n",
       "\n",
       "    if(typeof define === \"function\" && define.amd) {\n",
       "      requirejs.config({paths});\n",
       "      require([\"vega-embed\"], displayChart, err => showError(`Error loading script: ${err.message}`));\n",
       "    } else {\n",
       "      maybeLoadScript(\"vega\", \"5\")\n",
       "        .then(() => maybeLoadScript(\"vega-lite\", \"4.17.0\"))\n",
       "        .then(() => maybeLoadScript(\"vega-embed\", \"6\"))\n",
       "        .catch(showError)\n",
       "        .then(() => displayChart(vegaEmbed));\n",
       "    }\n",
       "  })({\"config\": {\"view\": {\"continuousWidth\": 400, \"continuousHeight\": 300}}, \"data\": {\"name\": \"data-80e90405a55fd9b6d144064e455399ff\"}, \"mark\": \"area\", \"encoding\": {\"x\": {\"field\": \"A\", \"type\": \"quantitative\"}, \"y\": {\"field\": \"B\", \"type\": \"quantitative\"}}, \"$schema\": \"https://vega.github.io/schema/vega-lite/v4.17.0.json\", \"datasets\": {\"data-80e90405a55fd9b6d144064e455399ff\": [{\"A\": 91, \"B\": 45, \"C\": 8, \"D\": 36}, {\"A\": 95, \"B\": 6, \"C\": 2, \"D\": 93}, {\"A\": 92, \"B\": 44, \"C\": 96, \"D\": 71}, {\"A\": 63, \"B\": 79, \"C\": 77, \"D\": 15}, {\"A\": 12, \"B\": 66, \"C\": 37, \"D\": 58}, {\"A\": 45, \"B\": 62, \"C\": 62, \"D\": 73}, {\"A\": 80, \"B\": 30, \"C\": 35, \"D\": 24}, {\"A\": 95, \"B\": 72, \"C\": 82, \"D\": 49}, {\"A\": 97, \"B\": 55, \"C\": 0, \"D\": 79}, {\"A\": 4, \"B\": 51, \"C\": 97, \"D\": 35}, {\"A\": 98, \"B\": 26, \"C\": 7, \"D\": 51}, {\"A\": 63, \"B\": 90, \"C\": 14, \"D\": 3}, {\"A\": 89, \"B\": 59, \"C\": 65, \"D\": 6}, {\"A\": 72, \"B\": 65, \"C\": 47, \"D\": 44}, {\"A\": 56, \"B\": 89, \"C\": 22, \"D\": 93}, {\"A\": 45, \"B\": 30, \"C\": 37, \"D\": 25}, {\"A\": 79, \"B\": 33, \"C\": 36, \"D\": 10}, {\"A\": 11, \"B\": 58, \"C\": 91, \"D\": 89}, {\"A\": 93, \"B\": 84, \"C\": 19, \"D\": 11}, {\"A\": 98, \"B\": 58, \"C\": 55, \"D\": 35}, {\"A\": 59, \"B\": 69, \"C\": 84, \"D\": 26}, {\"A\": 34, \"B\": 47, \"C\": 39, \"D\": 76}, {\"A\": 87, \"B\": 78, \"C\": 48, \"D\": 73}, {\"A\": 4, \"B\": 6, \"C\": 4, \"D\": 41}, {\"A\": 50, \"B\": 50, \"C\": 76, \"D\": 22}, {\"A\": 80, \"B\": 9, \"C\": 39, \"D\": 3}, {\"A\": 35, \"B\": 22, \"C\": 9, \"D\": 31}, {\"A\": 43, \"B\": 0, \"C\": 99, \"D\": 27}, {\"A\": 39, \"B\": 13, \"C\": 64, \"D\": 84}, {\"A\": 70, \"B\": 5, \"C\": 15, \"D\": 76}, {\"A\": 20, \"B\": 42, \"C\": 63, \"D\": 23}, {\"A\": 59, \"B\": 86, \"C\": 31, \"D\": 4}, {\"A\": 16, \"B\": 35, \"C\": 40, \"D\": 52}, {\"A\": 26, \"B\": 54, \"C\": 58, \"D\": 15}, {\"A\": 57, \"B\": 92, \"C\": 13, \"D\": 60}, {\"A\": 64, \"B\": 60, \"C\": 36, \"D\": 51}, {\"A\": 48, \"B\": 56, \"C\": 4, \"D\": 25}, {\"A\": 3, \"B\": 76, \"C\": 39, \"D\": 2}, {\"A\": 24, \"B\": 72, \"C\": 34, \"D\": 19}, {\"A\": 44, \"B\": 78, \"C\": 21, \"D\": 42}, {\"A\": 56, \"B\": 78, \"C\": 35, \"D\": 57}, {\"A\": 34, \"B\": 18, \"C\": 82, \"D\": 12}, {\"A\": 9, \"B\": 53, \"C\": 70, \"D\": 40}, {\"A\": 97, \"B\": 40, \"C\": 64, \"D\": 36}, {\"A\": 65, \"B\": 54, \"C\": 83, \"D\": 33}, {\"A\": 94, \"B\": 42, \"C\": 83, \"D\": 86}, {\"A\": 40, \"B\": 72, \"C\": 90, \"D\": 31}, {\"A\": 82, \"B\": 49, \"C\": 68, \"D\": 56}, {\"A\": 15, \"B\": 90, \"C\": 41, \"D\": 98}, {\"A\": 55, \"B\": 98, \"C\": 53, \"D\": 93}, {\"A\": 69, \"B\": 76, \"C\": 99, \"D\": 63}, {\"A\": 0, \"B\": 7, \"C\": 57, \"D\": 68}, {\"A\": 11, \"B\": 64, \"C\": 23, \"D\": 15}, {\"A\": 85, \"B\": 27, \"C\": 26, \"D\": 27}, {\"A\": 63, \"B\": 21, \"C\": 56, \"D\": 48}, {\"A\": 14, \"B\": 46, \"C\": 28, \"D\": 64}, {\"A\": 58, \"B\": 77, \"C\": 85, \"D\": 63}, {\"A\": 13, \"B\": 26, \"C\": 93, \"D\": 32}, {\"A\": 61, \"B\": 94, \"C\": 64, \"D\": 73}, {\"A\": 22, \"B\": 8, \"C\": 96, \"D\": 93}, {\"A\": 18, \"B\": 98, \"C\": 65, \"D\": 44}, {\"A\": 20, \"B\": 77, \"C\": 10, \"D\": 81}, {\"A\": 63, \"B\": 24, \"C\": 18, \"D\": 28}, {\"A\": 97, \"B\": 36, \"C\": 92, \"D\": 32}, {\"A\": 72, \"B\": 36, \"C\": 67, \"D\": 5}, {\"A\": 63, \"B\": 22, \"C\": 64, \"D\": 37}, {\"A\": 96, \"B\": 27, \"C\": 59, \"D\": 81}, {\"A\": 26, \"B\": 28, \"C\": 23, \"D\": 1}, {\"A\": 88, \"B\": 92, \"C\": 57, \"D\": 59}, {\"A\": 16, \"B\": 33, \"C\": 82, \"D\": 50}, {\"A\": 4, \"B\": 54, \"C\": 10, \"D\": 8}, {\"A\": 5, \"B\": 85, \"C\": 69, \"D\": 81}, {\"A\": 62, \"B\": 63, \"C\": 73, \"D\": 54}, {\"A\": 63, \"B\": 32, \"C\": 29, \"D\": 75}, {\"A\": 32, \"B\": 17, \"C\": 76, \"D\": 84}, {\"A\": 84, \"B\": 98, \"C\": 73, \"D\": 67}, {\"A\": 37, \"B\": 8, \"C\": 96, \"D\": 66}, {\"A\": 93, \"B\": 75, \"C\": 92, \"D\": 32}, {\"A\": 83, \"B\": 16, \"C\": 16, \"D\": 80}, {\"A\": 2, \"B\": 72, \"C\": 69, \"D\": 56}, {\"A\": 62, \"B\": 7, \"C\": 36, \"D\": 48}, {\"A\": 90, \"B\": 54, \"C\": 18, \"D\": 49}, {\"A\": 15, \"B\": 58, \"C\": 24, \"D\": 37}, {\"A\": 42, \"B\": 36, \"C\": 60, \"D\": 44}, {\"A\": 90, \"B\": 21, \"C\": 24, \"D\": 55}, {\"A\": 5, \"B\": 38, \"C\": 95, \"D\": 97}, {\"A\": 35, \"B\": 68, \"C\": 7, \"D\": 15}, {\"A\": 98, \"B\": 38, \"C\": 37, \"D\": 45}, {\"A\": 74, \"B\": 21, \"C\": 47, \"D\": 27}, {\"A\": 66, \"B\": 61, \"C\": 60, \"D\": 63}, {\"A\": 78, \"B\": 99, \"C\": 94, \"D\": 1}, {\"A\": 8, \"B\": 54, \"C\": 9, \"D\": 17}, {\"A\": 47, \"B\": 77, \"C\": 85, \"D\": 61}, {\"A\": 27, \"B\": 20, \"C\": 5, \"D\": 55}, {\"A\": 17, \"B\": 32, \"C\": 62, \"D\": 96}, {\"A\": 6, \"B\": 81, \"C\": 83, \"D\": 24}, {\"A\": 89, \"B\": 3, \"C\": 45, \"D\": 64}, {\"A\": 17, \"B\": 4, \"C\": 26, \"D\": 92}, {\"A\": 59, \"B\": 19, \"C\": 41, \"D\": 1}, {\"A\": 24, \"B\": 80, \"C\": 35, \"D\": 10}]}}, {\"mode\": \"vega-lite\"});\n",
       "</script>"
      ],
      "text/plain": [
       "alt.Chart(...)"
      ]
     },
     "execution_count": 12,
     "metadata": {},
     "output_type": "execute_result"
    }
   ],
   "source": [
    "(\n",
    "    alt.Chart(df)\n",
    "    .mark_area()\n",
    "    .encode(\n",
    "        x='A',\n",
    "        y='B'\n",
    "    )\n",
    ")\n"
   ]
  },
  {
   "cell_type": "code",
   "execution_count": null,
   "metadata": {},
   "outputs": [],
   "source": []
  },
  {
   "cell_type": "code",
   "execution_count": null,
   "metadata": {},
   "outputs": [],
   "source": []
  }
 ],
 "metadata": {
  "kernelspec": {
   "display_name": "Python 3 (ipykernel)",
   "language": "python",
   "name": "python3"
  },
  "language_info": {
   "codemirror_mode": {
    "name": "ipython",
    "version": 3
   },
   "file_extension": ".py",
   "mimetype": "text/x-python",
   "name": "python",
   "nbconvert_exporter": "python",
   "pygments_lexer": "ipython3",
   "version": "3.10.5"
  },
  "vscode": {
   "interpreter": {
    "hash": "b0fa6594d8f4cbf19f97940f81e996739fb7646882a419484c72d19e05852a7e"
   }
  }
 },
 "nbformat": 4,
 "nbformat_minor": 2
}
