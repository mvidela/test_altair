{
 "cells": [
  {
   "cell_type": "code",
   "execution_count": 1,
   "metadata": {},
   "outputs": [
    {
     "data": {
      "text/html": [
       "\n",
       "<div id=\"altair-viz-17a1791d12af45399a5bc2f1df08128b\"></div>\n",
       "<script type=\"text/javascript\">\n",
       "  var VEGA_DEBUG = (typeof VEGA_DEBUG == \"undefined\") ? {} : VEGA_DEBUG;\n",
       "  (function(spec, embedOpt){\n",
       "    let outputDiv = document.currentScript.previousElementSibling;\n",
       "    if (outputDiv.id !== \"altair-viz-17a1791d12af45399a5bc2f1df08128b\") {\n",
       "      outputDiv = document.getElementById(\"altair-viz-17a1791d12af45399a5bc2f1df08128b\");\n",
       "    }\n",
       "    const paths = {\n",
       "      \"vega\": \"https://cdn.jsdelivr.net/npm//vega@5?noext\",\n",
       "      \"vega-lib\": \"https://cdn.jsdelivr.net/npm//vega-lib?noext\",\n",
       "      \"vega-lite\": \"https://cdn.jsdelivr.net/npm//vega-lite@4.17.0?noext\",\n",
       "      \"vega-embed\": \"https://cdn.jsdelivr.net/npm//vega-embed@6?noext\",\n",
       "    };\n",
       "\n",
       "    function maybeLoadScript(lib, version) {\n",
       "      var key = `${lib.replace(\"-\", \"\")}_version`;\n",
       "      return (VEGA_DEBUG[key] == version) ?\n",
       "        Promise.resolve(paths[lib]) :\n",
       "        new Promise(function(resolve, reject) {\n",
       "          var s = document.createElement('script');\n",
       "          document.getElementsByTagName(\"head\")[0].appendChild(s);\n",
       "          s.async = true;\n",
       "          s.onload = () => {\n",
       "            VEGA_DEBUG[key] = version;\n",
       "            return resolve(paths[lib]);\n",
       "          };\n",
       "          s.onerror = () => reject(`Error loading script: ${paths[lib]}`);\n",
       "          s.src = paths[lib];\n",
       "        });\n",
       "    }\n",
       "\n",
       "    function showError(err) {\n",
       "      outputDiv.innerHTML = `<div class=\"error\" style=\"color:red;\">${err}</div>`;\n",
       "      throw err;\n",
       "    }\n",
       "\n",
       "    function displayChart(vegaEmbed) {\n",
       "      vegaEmbed(outputDiv, spec, embedOpt)\n",
       "        .catch(err => showError(`Javascript Error: ${err.message}<br>This usually means there's a typo in your chart specification. See the javascript console for the full traceback.`));\n",
       "    }\n",
       "\n",
       "    if(typeof define === \"function\" && define.amd) {\n",
       "      requirejs.config({paths});\n",
       "      require([\"vega-embed\"], displayChart, err => showError(`Error loading script: ${err.message}`));\n",
       "    } else {\n",
       "      maybeLoadScript(\"vega\", \"5\")\n",
       "        .then(() => maybeLoadScript(\"vega-lite\", \"4.17.0\"))\n",
       "        .then(() => maybeLoadScript(\"vega-embed\", \"6\"))\n",
       "        .catch(showError)\n",
       "        .then(() => displayChart(vegaEmbed));\n",
       "    }\n",
       "  })({\"config\": {\"view\": {\"continuousWidth\": 400, \"continuousHeight\": 300}}, \"data\": {\"name\": \"data-e3fd6253a62010abd67c5ec20ef2d8b0\"}, \"mark\": \"point\", \"encoding\": {\"x\": {\"field\": \"A\", \"type\": \"quantitative\"}, \"y\": {\"field\": \"B\", \"type\": \"quantitative\"}}, \"$schema\": \"https://vega.github.io/schema/vega-lite/v4.17.0.json\", \"datasets\": {\"data-e3fd6253a62010abd67c5ec20ef2d8b0\": [{\"A\": 82, \"B\": 28, \"C\": 1, \"D\": 95}, {\"A\": 82, \"B\": 14, \"C\": 14, \"D\": 68}, {\"A\": 65, \"B\": 89, \"C\": 90, \"D\": 27}, {\"A\": 97, \"B\": 45, \"C\": 16, \"D\": 14}, {\"A\": 81, \"B\": 48, \"C\": 96, \"D\": 30}, {\"A\": 8, \"B\": 32, \"C\": 15, \"D\": 80}, {\"A\": 98, \"B\": 34, \"C\": 91, \"D\": 61}, {\"A\": 81, \"B\": 9, \"C\": 1, \"D\": 98}, {\"A\": 95, \"B\": 48, \"C\": 58, \"D\": 5}, {\"A\": 47, \"B\": 26, \"C\": 7, \"D\": 79}, {\"A\": 55, \"B\": 24, \"C\": 9, \"D\": 43}, {\"A\": 9, \"B\": 2, \"C\": 75, \"D\": 33}, {\"A\": 92, \"B\": 54, \"C\": 85, \"D\": 4}, {\"A\": 64, \"B\": 32, \"C\": 12, \"D\": 57}, {\"A\": 76, \"B\": 22, \"C\": 85, \"D\": 85}, {\"A\": 25, \"B\": 69, \"C\": 23, \"D\": 85}, {\"A\": 43, \"B\": 38, \"C\": 95, \"D\": 69}, {\"A\": 60, \"B\": 50, \"C\": 22, \"D\": 59}, {\"A\": 68, \"B\": 59, \"C\": 44, \"D\": 32}, {\"A\": 66, \"B\": 75, \"C\": 89, \"D\": 71}, {\"A\": 88, \"B\": 74, \"C\": 86, \"D\": 88}, {\"A\": 25, \"B\": 54, \"C\": 19, \"D\": 46}, {\"A\": 77, \"B\": 35, \"C\": 91, \"D\": 23}, {\"A\": 28, \"B\": 15, \"C\": 49, \"D\": 6}, {\"A\": 57, \"B\": 80, \"C\": 36, \"D\": 53}, {\"A\": 62, \"B\": 74, \"C\": 92, \"D\": 67}, {\"A\": 99, \"B\": 4, \"C\": 77, \"D\": 15}, {\"A\": 5, \"B\": 22, \"C\": 88, \"D\": 39}, {\"A\": 85, \"B\": 47, \"C\": 42, \"D\": 84}, {\"A\": 53, \"B\": 95, \"C\": 61, \"D\": 88}, {\"A\": 69, \"B\": 74, \"C\": 29, \"D\": 56}, {\"A\": 20, \"B\": 46, \"C\": 44, \"D\": 75}, {\"A\": 73, \"B\": 59, \"C\": 19, \"D\": 70}, {\"A\": 54, \"B\": 13, \"C\": 15, \"D\": 74}, {\"A\": 36, \"B\": 32, \"C\": 85, \"D\": 8}, {\"A\": 32, \"B\": 29, \"C\": 21, \"D\": 41}, {\"A\": 91, \"B\": 0, \"C\": 7, \"D\": 72}, {\"A\": 16, \"B\": 59, \"C\": 26, \"D\": 11}, {\"A\": 97, \"B\": 22, \"C\": 92, \"D\": 1}, {\"A\": 3, \"B\": 4, \"C\": 48, \"D\": 90}, {\"A\": 36, \"B\": 47, \"C\": 43, \"D\": 84}, {\"A\": 60, \"B\": 86, \"C\": 78, \"D\": 7}, {\"A\": 65, \"B\": 86, \"C\": 91, \"D\": 67}, {\"A\": 37, \"B\": 80, \"C\": 55, \"D\": 71}, {\"A\": 97, \"B\": 68, \"C\": 40, \"D\": 68}, {\"A\": 80, \"B\": 72, \"C\": 84, \"D\": 90}, {\"A\": 76, \"B\": 79, \"C\": 41, \"D\": 78}, {\"A\": 43, \"B\": 44, \"C\": 82, \"D\": 98}, {\"A\": 77, \"B\": 19, \"C\": 18, \"D\": 32}, {\"A\": 20, \"B\": 11, \"C\": 62, \"D\": 7}, {\"A\": 40, \"B\": 58, \"C\": 88, \"D\": 86}, {\"A\": 87, \"B\": 93, \"C\": 40, \"D\": 75}, {\"A\": 63, \"B\": 73, \"C\": 14, \"D\": 27}, {\"A\": 25, \"B\": 89, \"C\": 98, \"D\": 23}, {\"A\": 86, \"B\": 75, \"C\": 88, \"D\": 42}, {\"A\": 2, \"B\": 73, \"C\": 1, \"D\": 31}, {\"A\": 76, \"B\": 50, \"C\": 26, \"D\": 3}, {\"A\": 76, \"B\": 59, \"C\": 28, \"D\": 51}, {\"A\": 0, \"B\": 39, \"C\": 96, \"D\": 70}, {\"A\": 70, \"B\": 31, \"C\": 31, \"D\": 55}, {\"A\": 79, \"B\": 72, \"C\": 37, \"D\": 24}, {\"A\": 26, \"B\": 82, \"C\": 17, \"D\": 37}, {\"A\": 22, \"B\": 74, \"C\": 65, \"D\": 49}, {\"A\": 47, \"B\": 18, \"C\": 58, \"D\": 38}, {\"A\": 25, \"B\": 28, \"C\": 40, \"D\": 15}, {\"A\": 70, \"B\": 34, \"C\": 5, \"D\": 14}, {\"A\": 30, \"B\": 28, \"C\": 59, \"D\": 11}, {\"A\": 89, \"B\": 81, \"C\": 39, \"D\": 10}, {\"A\": 5, \"B\": 48, \"C\": 5, \"D\": 46}, {\"A\": 10, \"B\": 92, \"C\": 54, \"D\": 0}, {\"A\": 53, \"B\": 28, \"C\": 48, \"D\": 96}, {\"A\": 75, \"B\": 77, \"C\": 72, \"D\": 52}, {\"A\": 91, \"B\": 32, \"C\": 57, \"D\": 72}, {\"A\": 61, \"B\": 86, \"C\": 46, \"D\": 72}, {\"A\": 98, \"B\": 50, \"C\": 4, \"D\": 29}, {\"A\": 26, \"B\": 16, \"C\": 15, \"D\": 41}, {\"A\": 37, \"B\": 72, \"C\": 61, \"D\": 8}, {\"A\": 66, \"B\": 0, \"C\": 98, \"D\": 28}, {\"A\": 36, \"B\": 70, \"C\": 44, \"D\": 2}, {\"A\": 81, \"B\": 92, \"C\": 4, \"D\": 72}, {\"A\": 25, \"B\": 93, \"C\": 89, \"D\": 83}, {\"A\": 46, \"B\": 44, \"C\": 10, \"D\": 38}, {\"A\": 65, \"B\": 52, \"C\": 89, \"D\": 29}, {\"A\": 21, \"B\": 70, \"C\": 20, \"D\": 99}, {\"A\": 39, \"B\": 8, \"C\": 12, \"D\": 45}, {\"A\": 78, \"B\": 86, \"C\": 94, \"D\": 61}, {\"A\": 43, \"B\": 48, \"C\": 25, \"D\": 25}, {\"A\": 55, \"B\": 33, \"C\": 80, \"D\": 54}, {\"A\": 28, \"B\": 0, \"C\": 56, \"D\": 52}, {\"A\": 29, \"B\": 97, \"C\": 14, \"D\": 32}, {\"A\": 17, \"B\": 14, \"C\": 2, \"D\": 79}, {\"A\": 46, \"B\": 47, \"C\": 14, \"D\": 3}, {\"A\": 27, \"B\": 51, \"C\": 13, \"D\": 95}, {\"A\": 1, \"B\": 11, \"C\": 36, \"D\": 92}, {\"A\": 95, \"B\": 84, \"C\": 43, \"D\": 11}, {\"A\": 35, \"B\": 44, \"C\": 69, \"D\": 93}, {\"A\": 78, \"B\": 0, \"C\": 68, \"D\": 49}, {\"A\": 3, \"B\": 64, \"C\": 40, \"D\": 67}, {\"A\": 69, \"B\": 52, \"C\": 91, \"D\": 4}, {\"A\": 32, \"B\": 95, \"C\": 41, \"D\": 49}]}}, {\"mode\": \"vega-lite\"});\n",
       "</script>"
      ],
      "text/plain": [
       "alt.Chart(...)"
      ]
     },
     "execution_count": 1,
     "metadata": {},
     "output_type": "execute_result"
    }
   ],
   "source": [
    "import altair as alt\n",
    "import pandas as pd\n",
    "import numpy as np\n",
    "\n",
    "#alt.renderers.enable('notebook')\n",
    "# alt.renderers.enable('default')\n",
    "# alt.renderers.enable('mimetype')\n",
    "# alt.renderers.enable('jupyterlab')\n",
    "# alt.renderers.enable('svg')\n",
    "\n",
    "# This is a comment\n",
    "df = pd.DataFrame(np.random.randint(\n",
    "    0, 100, size=(100, 4)), columns=list('ABCD'))\n",
    "(\n",
    "  alt.Chart(df)\n",
    "  .mark_point()\n",
    "  .encode(\n",
    "    x='A',\n",
    "    y='B'\n",
    "  )\n",
    ")"
   ]
  },
  {
   "cell_type": "code",
   "execution_count": 2,
   "metadata": {},
   "outputs": [
    {
     "data": {
      "text/html": [
       "\n",
       "<div id=\"altair-viz-12c44204e1074aadb115beff344a489c\"></div>\n",
       "<script type=\"text/javascript\">\n",
       "  var VEGA_DEBUG = (typeof VEGA_DEBUG == \"undefined\") ? {} : VEGA_DEBUG;\n",
       "  (function(spec, embedOpt){\n",
       "    let outputDiv = document.currentScript.previousElementSibling;\n",
       "    if (outputDiv.id !== \"altair-viz-12c44204e1074aadb115beff344a489c\") {\n",
       "      outputDiv = document.getElementById(\"altair-viz-12c44204e1074aadb115beff344a489c\");\n",
       "    }\n",
       "    const paths = {\n",
       "      \"vega\": \"https://cdn.jsdelivr.net/npm//vega@5?noext\",\n",
       "      \"vega-lib\": \"https://cdn.jsdelivr.net/npm//vega-lib?noext\",\n",
       "      \"vega-lite\": \"https://cdn.jsdelivr.net/npm//vega-lite@4.17.0?noext\",\n",
       "      \"vega-embed\": \"https://cdn.jsdelivr.net/npm//vega-embed@6?noext\",\n",
       "    };\n",
       "\n",
       "    function maybeLoadScript(lib, version) {\n",
       "      var key = `${lib.replace(\"-\", \"\")}_version`;\n",
       "      return (VEGA_DEBUG[key] == version) ?\n",
       "        Promise.resolve(paths[lib]) :\n",
       "        new Promise(function(resolve, reject) {\n",
       "          var s = document.createElement('script');\n",
       "          document.getElementsByTagName(\"head\")[0].appendChild(s);\n",
       "          s.async = true;\n",
       "          s.onload = () => {\n",
       "            VEGA_DEBUG[key] = version;\n",
       "            return resolve(paths[lib]);\n",
       "          };\n",
       "          s.onerror = () => reject(`Error loading script: ${paths[lib]}`);\n",
       "          s.src = paths[lib];\n",
       "        });\n",
       "    }\n",
       "\n",
       "    function showError(err) {\n",
       "      outputDiv.innerHTML = `<div class=\"error\" style=\"color:red;\">${err}</div>`;\n",
       "      throw err;\n",
       "    }\n",
       "\n",
       "    function displayChart(vegaEmbed) {\n",
       "      vegaEmbed(outputDiv, spec, embedOpt)\n",
       "        .catch(err => showError(`Javascript Error: ${err.message}<br>This usually means there's a typo in your chart specification. See the javascript console for the full traceback.`));\n",
       "    }\n",
       "\n",
       "    if(typeof define === \"function\" && define.amd) {\n",
       "      requirejs.config({paths});\n",
       "      require([\"vega-embed\"], displayChart, err => showError(`Error loading script: ${err.message}`));\n",
       "    } else {\n",
       "      maybeLoadScript(\"vega\", \"5\")\n",
       "        .then(() => maybeLoadScript(\"vega-lite\", \"4.17.0\"))\n",
       "        .then(() => maybeLoadScript(\"vega-embed\", \"6\"))\n",
       "        .catch(showError)\n",
       "        .then(() => displayChart(vegaEmbed));\n",
       "    }\n",
       "  })({\"config\": {\"view\": {\"continuousWidth\": 400, \"continuousHeight\": 300}}, \"data\": {\"name\": \"data-e3fd6253a62010abd67c5ec20ef2d8b0\"}, \"mark\": \"area\", \"encoding\": {\"x\": {\"field\": \"A\", \"type\": \"quantitative\"}, \"y\": {\"field\": \"B\", \"type\": \"quantitative\"}}, \"$schema\": \"https://vega.github.io/schema/vega-lite/v4.17.0.json\", \"datasets\": {\"data-e3fd6253a62010abd67c5ec20ef2d8b0\": [{\"A\": 82, \"B\": 28, \"C\": 1, \"D\": 95}, {\"A\": 82, \"B\": 14, \"C\": 14, \"D\": 68}, {\"A\": 65, \"B\": 89, \"C\": 90, \"D\": 27}, {\"A\": 97, \"B\": 45, \"C\": 16, \"D\": 14}, {\"A\": 81, \"B\": 48, \"C\": 96, \"D\": 30}, {\"A\": 8, \"B\": 32, \"C\": 15, \"D\": 80}, {\"A\": 98, \"B\": 34, \"C\": 91, \"D\": 61}, {\"A\": 81, \"B\": 9, \"C\": 1, \"D\": 98}, {\"A\": 95, \"B\": 48, \"C\": 58, \"D\": 5}, {\"A\": 47, \"B\": 26, \"C\": 7, \"D\": 79}, {\"A\": 55, \"B\": 24, \"C\": 9, \"D\": 43}, {\"A\": 9, \"B\": 2, \"C\": 75, \"D\": 33}, {\"A\": 92, \"B\": 54, \"C\": 85, \"D\": 4}, {\"A\": 64, \"B\": 32, \"C\": 12, \"D\": 57}, {\"A\": 76, \"B\": 22, \"C\": 85, \"D\": 85}, {\"A\": 25, \"B\": 69, \"C\": 23, \"D\": 85}, {\"A\": 43, \"B\": 38, \"C\": 95, \"D\": 69}, {\"A\": 60, \"B\": 50, \"C\": 22, \"D\": 59}, {\"A\": 68, \"B\": 59, \"C\": 44, \"D\": 32}, {\"A\": 66, \"B\": 75, \"C\": 89, \"D\": 71}, {\"A\": 88, \"B\": 74, \"C\": 86, \"D\": 88}, {\"A\": 25, \"B\": 54, \"C\": 19, \"D\": 46}, {\"A\": 77, \"B\": 35, \"C\": 91, \"D\": 23}, {\"A\": 28, \"B\": 15, \"C\": 49, \"D\": 6}, {\"A\": 57, \"B\": 80, \"C\": 36, \"D\": 53}, {\"A\": 62, \"B\": 74, \"C\": 92, \"D\": 67}, {\"A\": 99, \"B\": 4, \"C\": 77, \"D\": 15}, {\"A\": 5, \"B\": 22, \"C\": 88, \"D\": 39}, {\"A\": 85, \"B\": 47, \"C\": 42, \"D\": 84}, {\"A\": 53, \"B\": 95, \"C\": 61, \"D\": 88}, {\"A\": 69, \"B\": 74, \"C\": 29, \"D\": 56}, {\"A\": 20, \"B\": 46, \"C\": 44, \"D\": 75}, {\"A\": 73, \"B\": 59, \"C\": 19, \"D\": 70}, {\"A\": 54, \"B\": 13, \"C\": 15, \"D\": 74}, {\"A\": 36, \"B\": 32, \"C\": 85, \"D\": 8}, {\"A\": 32, \"B\": 29, \"C\": 21, \"D\": 41}, {\"A\": 91, \"B\": 0, \"C\": 7, \"D\": 72}, {\"A\": 16, \"B\": 59, \"C\": 26, \"D\": 11}, {\"A\": 97, \"B\": 22, \"C\": 92, \"D\": 1}, {\"A\": 3, \"B\": 4, \"C\": 48, \"D\": 90}, {\"A\": 36, \"B\": 47, \"C\": 43, \"D\": 84}, {\"A\": 60, \"B\": 86, \"C\": 78, \"D\": 7}, {\"A\": 65, \"B\": 86, \"C\": 91, \"D\": 67}, {\"A\": 37, \"B\": 80, \"C\": 55, \"D\": 71}, {\"A\": 97, \"B\": 68, \"C\": 40, \"D\": 68}, {\"A\": 80, \"B\": 72, \"C\": 84, \"D\": 90}, {\"A\": 76, \"B\": 79, \"C\": 41, \"D\": 78}, {\"A\": 43, \"B\": 44, \"C\": 82, \"D\": 98}, {\"A\": 77, \"B\": 19, \"C\": 18, \"D\": 32}, {\"A\": 20, \"B\": 11, \"C\": 62, \"D\": 7}, {\"A\": 40, \"B\": 58, \"C\": 88, \"D\": 86}, {\"A\": 87, \"B\": 93, \"C\": 40, \"D\": 75}, {\"A\": 63, \"B\": 73, \"C\": 14, \"D\": 27}, {\"A\": 25, \"B\": 89, \"C\": 98, \"D\": 23}, {\"A\": 86, \"B\": 75, \"C\": 88, \"D\": 42}, {\"A\": 2, \"B\": 73, \"C\": 1, \"D\": 31}, {\"A\": 76, \"B\": 50, \"C\": 26, \"D\": 3}, {\"A\": 76, \"B\": 59, \"C\": 28, \"D\": 51}, {\"A\": 0, \"B\": 39, \"C\": 96, \"D\": 70}, {\"A\": 70, \"B\": 31, \"C\": 31, \"D\": 55}, {\"A\": 79, \"B\": 72, \"C\": 37, \"D\": 24}, {\"A\": 26, \"B\": 82, \"C\": 17, \"D\": 37}, {\"A\": 22, \"B\": 74, \"C\": 65, \"D\": 49}, {\"A\": 47, \"B\": 18, \"C\": 58, \"D\": 38}, {\"A\": 25, \"B\": 28, \"C\": 40, \"D\": 15}, {\"A\": 70, \"B\": 34, \"C\": 5, \"D\": 14}, {\"A\": 30, \"B\": 28, \"C\": 59, \"D\": 11}, {\"A\": 89, \"B\": 81, \"C\": 39, \"D\": 10}, {\"A\": 5, \"B\": 48, \"C\": 5, \"D\": 46}, {\"A\": 10, \"B\": 92, \"C\": 54, \"D\": 0}, {\"A\": 53, \"B\": 28, \"C\": 48, \"D\": 96}, {\"A\": 75, \"B\": 77, \"C\": 72, \"D\": 52}, {\"A\": 91, \"B\": 32, \"C\": 57, \"D\": 72}, {\"A\": 61, \"B\": 86, \"C\": 46, \"D\": 72}, {\"A\": 98, \"B\": 50, \"C\": 4, \"D\": 29}, {\"A\": 26, \"B\": 16, \"C\": 15, \"D\": 41}, {\"A\": 37, \"B\": 72, \"C\": 61, \"D\": 8}, {\"A\": 66, \"B\": 0, \"C\": 98, \"D\": 28}, {\"A\": 36, \"B\": 70, \"C\": 44, \"D\": 2}, {\"A\": 81, \"B\": 92, \"C\": 4, \"D\": 72}, {\"A\": 25, \"B\": 93, \"C\": 89, \"D\": 83}, {\"A\": 46, \"B\": 44, \"C\": 10, \"D\": 38}, {\"A\": 65, \"B\": 52, \"C\": 89, \"D\": 29}, {\"A\": 21, \"B\": 70, \"C\": 20, \"D\": 99}, {\"A\": 39, \"B\": 8, \"C\": 12, \"D\": 45}, {\"A\": 78, \"B\": 86, \"C\": 94, \"D\": 61}, {\"A\": 43, \"B\": 48, \"C\": 25, \"D\": 25}, {\"A\": 55, \"B\": 33, \"C\": 80, \"D\": 54}, {\"A\": 28, \"B\": 0, \"C\": 56, \"D\": 52}, {\"A\": 29, \"B\": 97, \"C\": 14, \"D\": 32}, {\"A\": 17, \"B\": 14, \"C\": 2, \"D\": 79}, {\"A\": 46, \"B\": 47, \"C\": 14, \"D\": 3}, {\"A\": 27, \"B\": 51, \"C\": 13, \"D\": 95}, {\"A\": 1, \"B\": 11, \"C\": 36, \"D\": 92}, {\"A\": 95, \"B\": 84, \"C\": 43, \"D\": 11}, {\"A\": 35, \"B\": 44, \"C\": 69, \"D\": 93}, {\"A\": 78, \"B\": 0, \"C\": 68, \"D\": 49}, {\"A\": 3, \"B\": 64, \"C\": 40, \"D\": 67}, {\"A\": 69, \"B\": 52, \"C\": 91, \"D\": 4}, {\"A\": 32, \"B\": 95, \"C\": 41, \"D\": 49}]}}, {\"mode\": \"vega-lite\"});\n",
       "</script>"
      ],
      "text/plain": [
       "alt.Chart(...)"
      ]
     },
     "execution_count": 2,
     "metadata": {},
     "output_type": "execute_result"
    }
   ],
   "source": [
    "(\n",
    "    alt.Chart(df)\n",
    "    .mark_area()\n",
    "    .encode(\n",
    "        x='A',\n",
    "        y='B'\n",
    "    )\n",
    ")\n"
   ]
  },
  {
   "cell_type": "code",
   "execution_count": null,
   "metadata": {},
   "outputs": [],
   "source": []
  }
 ],
 "metadata": {
  "kernelspec": {
   "display_name": "Python 3 (ipykernel)",
   "language": "python",
   "name": "python3"
  },
  "language_info": {
   "codemirror_mode": {
    "name": "ipython",
    "version": 3
   },
   "file_extension": ".py",
   "mimetype": "text/x-python",
   "name": "python",
   "nbconvert_exporter": "python",
   "pygments_lexer": "ipython3",
   "version": "3.10.5"
  },
  "vscode": {
   "interpreter": {
    "hash": "b0fa6594d8f4cbf19f97940f81e996739fb7646882a419484c72d19e05852a7e"
   }
  }
 },
 "nbformat": 4,
 "nbformat_minor": 2
}
