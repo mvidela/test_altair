{
 "cells": [
  {
   "cell_type": "code",
   "execution_count": 4,
   "metadata": {},
   "outputs": [
    {
     "data": {
      "application/vnd.vegalite.v4+json": {
       "$schema": "https://vega.github.io/schema/vega-lite/v4.17.0.json",
       "config": {
        "view": {
         "continuousHeight": 300,
         "continuousWidth": 400
        }
       },
       "data": {
        "name": "data-692a7ca965ae081153c04387db99c889"
       },
       "datasets": {
        "data-692a7ca965ae081153c04387db99c889": [
         {
          "A": 84,
          "B": 41,
          "C": 95,
          "D": 9
         },
         {
          "A": 55,
          "B": 29,
          "C": 94,
          "D": 12
         },
         {
          "A": 44,
          "B": 43,
          "C": 54,
          "D": 28
         },
         {
          "A": 1,
          "B": 77,
          "C": 3,
          "D": 71
         },
         {
          "A": 23,
          "B": 99,
          "C": 93,
          "D": 97
         },
         {
          "A": 57,
          "B": 20,
          "C": 29,
          "D": 24
         },
         {
          "A": 35,
          "B": 88,
          "C": 34,
          "D": 66
         },
         {
          "A": 50,
          "B": 90,
          "C": 1,
          "D": 39
         },
         {
          "A": 14,
          "B": 76,
          "C": 77,
          "D": 74
         },
         {
          "A": 45,
          "B": 8,
          "C": 68,
          "D": 22
         },
         {
          "A": 33,
          "B": 71,
          "C": 46,
          "D": 36
         },
         {
          "A": 29,
          "B": 34,
          "C": 93,
          "D": 92
         },
         {
          "A": 58,
          "B": 62,
          "C": 45,
          "D": 33
         },
         {
          "A": 36,
          "B": 94,
          "C": 20,
          "D": 60
         },
         {
          "A": 59,
          "B": 70,
          "C": 71,
          "D": 18
         },
         {
          "A": 97,
          "B": 78,
          "C": 86,
          "D": 64
         },
         {
          "A": 81,
          "B": 86,
          "C": 47,
          "D": 28
         },
         {
          "A": 90,
          "B": 80,
          "C": 42,
          "D": 90
         },
         {
          "A": 80,
          "B": 68,
          "C": 42,
          "D": 99
         },
         {
          "A": 94,
          "B": 71,
          "C": 64,
          "D": 84
         },
         {
          "A": 35,
          "B": 95,
          "C": 72,
          "D": 31
         },
         {
          "A": 95,
          "B": 58,
          "C": 21,
          "D": 35
         },
         {
          "A": 9,
          "B": 34,
          "C": 83,
          "D": 41
         },
         {
          "A": 11,
          "B": 79,
          "C": 58,
          "D": 96
         },
         {
          "A": 66,
          "B": 58,
          "C": 85,
          "D": 6
         },
         {
          "A": 57,
          "B": 27,
          "C": 81,
          "D": 12
         },
         {
          "A": 34,
          "B": 59,
          "C": 12,
          "D": 12
         },
         {
          "A": 50,
          "B": 24,
          "C": 67,
          "D": 83
         },
         {
          "A": 45,
          "B": 90,
          "C": 77,
          "D": 3
         },
         {
          "A": 18,
          "B": 28,
          "C": 67,
          "D": 18
         },
         {
          "A": 18,
          "B": 85,
          "C": 28,
          "D": 44
         },
         {
          "A": 49,
          "B": 25,
          "C": 88,
          "D": 88
         },
         {
          "A": 97,
          "B": 26,
          "C": 92,
          "D": 62
         },
         {
          "A": 3,
          "B": 12,
          "C": 36,
          "D": 16
         },
         {
          "A": 82,
          "B": 52,
          "C": 91,
          "D": 75
         },
         {
          "A": 10,
          "B": 84,
          "C": 57,
          "D": 50
         },
         {
          "A": 92,
          "B": 19,
          "C": 75,
          "D": 92
         },
         {
          "A": 34,
          "B": 81,
          "C": 87,
          "D": 51
         },
         {
          "A": 26,
          "B": 21,
          "C": 97,
          "D": 62
         },
         {
          "A": 67,
          "B": 20,
          "C": 37,
          "D": 35
         },
         {
          "A": 26,
          "B": 38,
          "C": 59,
          "D": 44
         },
         {
          "A": 77,
          "B": 48,
          "C": 48,
          "D": 54
         },
         {
          "A": 48,
          "B": 21,
          "C": 5,
          "D": 4
         },
         {
          "A": 17,
          "B": 59,
          "C": 33,
          "D": 22
         },
         {
          "A": 58,
          "B": 7,
          "C": 37,
          "D": 39
         },
         {
          "A": 66,
          "B": 43,
          "C": 73,
          "D": 47
         },
         {
          "A": 7,
          "B": 82,
          "C": 67,
          "D": 51
         },
         {
          "A": 28,
          "B": 3,
          "C": 18,
          "D": 23
         },
         {
          "A": 75,
          "B": 79,
          "C": 68,
          "D": 85
         },
         {
          "A": 17,
          "B": 73,
          "C": 34,
          "D": 76
         },
         {
          "A": 73,
          "B": 58,
          "C": 14,
          "D": 36
         },
         {
          "A": 41,
          "B": 92,
          "C": 34,
          "D": 15
         },
         {
          "A": 59,
          "B": 40,
          "C": 90,
          "D": 22
         },
         {
          "A": 42,
          "B": 66,
          "C": 26,
          "D": 34
         },
         {
          "A": 74,
          "B": 27,
          "C": 23,
          "D": 15
         },
         {
          "A": 33,
          "B": 42,
          "C": 38,
          "D": 48
         },
         {
          "A": 95,
          "B": 78,
          "C": 12,
          "D": 71
         },
         {
          "A": 38,
          "B": 23,
          "C": 51,
          "D": 15
         },
         {
          "A": 90,
          "B": 96,
          "C": 88,
          "D": 13
         },
         {
          "A": 50,
          "B": 90,
          "C": 95,
          "D": 65
         },
         {
          "A": 37,
          "B": 41,
          "C": 90,
          "D": 95
         },
         {
          "A": 19,
          "B": 87,
          "C": 81,
          "D": 2
         },
         {
          "A": 62,
          "B": 12,
          "C": 10,
          "D": 14
         },
         {
          "A": 14,
          "B": 44,
          "C": 75,
          "D": 59
         },
         {
          "A": 94,
          "B": 39,
          "C": 69,
          "D": 26
         },
         {
          "A": 73,
          "B": 16,
          "C": 52,
          "D": 8
         },
         {
          "A": 35,
          "B": 54,
          "C": 6,
          "D": 30
         },
         {
          "A": 66,
          "B": 22,
          "C": 20,
          "D": 39
         },
         {
          "A": 4,
          "B": 39,
          "C": 14,
          "D": 23
         },
         {
          "A": 49,
          "B": 43,
          "C": 90,
          "D": 37
         },
         {
          "A": 7,
          "B": 58,
          "C": 17,
          "D": 99
         },
         {
          "A": 75,
          "B": 12,
          "C": 86,
          "D": 80
         },
         {
          "A": 84,
          "B": 76,
          "C": 4,
          "D": 49
         },
         {
          "A": 82,
          "B": 29,
          "C": 26,
          "D": 3
         },
         {
          "A": 67,
          "B": 51,
          "C": 0,
          "D": 66
         },
         {
          "A": 26,
          "B": 36,
          "C": 58,
          "D": 8
         },
         {
          "A": 92,
          "B": 70,
          "C": 43,
          "D": 31
         },
         {
          "A": 85,
          "B": 50,
          "C": 3,
          "D": 3
         },
         {
          "A": 13,
          "B": 16,
          "C": 18,
          "D": 44
         },
         {
          "A": 97,
          "B": 28,
          "C": 56,
          "D": 82
         },
         {
          "A": 90,
          "B": 67,
          "C": 48,
          "D": 27
         },
         {
          "A": 65,
          "B": 26,
          "C": 44,
          "D": 43
         },
         {
          "A": 21,
          "B": 40,
          "C": 23,
          "D": 90
         },
         {
          "A": 4,
          "B": 36,
          "C": 97,
          "D": 55
         },
         {
          "A": 22,
          "B": 65,
          "C": 32,
          "D": 57
         },
         {
          "A": 90,
          "B": 92,
          "C": 82,
          "D": 85
         },
         {
          "A": 59,
          "B": 75,
          "C": 45,
          "D": 62
         },
         {
          "A": 77,
          "B": 85,
          "C": 20,
          "D": 72
         },
         {
          "A": 78,
          "B": 11,
          "C": 89,
          "D": 57
         },
         {
          "A": 48,
          "B": 98,
          "C": 63,
          "D": 26
         },
         {
          "A": 73,
          "B": 32,
          "C": 85,
          "D": 49
         },
         {
          "A": 10,
          "B": 16,
          "C": 32,
          "D": 90
         },
         {
          "A": 1,
          "B": 29,
          "C": 28,
          "D": 74
         },
         {
          "A": 86,
          "B": 24,
          "C": 85,
          "D": 6
         },
         {
          "A": 84,
          "B": 91,
          "C": 68,
          "D": 70
         },
         {
          "A": 16,
          "B": 25,
          "C": 97,
          "D": 2
         },
         {
          "A": 69,
          "B": 54,
          "C": 48,
          "D": 90
         },
         {
          "A": 9,
          "B": 73,
          "C": 91,
          "D": 17
         },
         {
          "A": 40,
          "B": 35,
          "C": 79,
          "D": 8
         },
         {
          "A": 69,
          "B": 29,
          "C": 66,
          "D": 31
         }
        ]
       },
       "encoding": {
        "x": {
         "field": "A",
         "type": "quantitative"
        },
        "y": {
         "field": "B",
         "type": "quantitative"
        }
       },
       "mark": "point"
      },
      "text/plain": [
       "<VegaLite 4 object>\n",
       "\n",
       "If you see this message, it means the renderer has not been properly enabled\n",
       "for the frontend that you are using. For more information, see\n",
       "https://altair-viz.github.io/user_guide/troubleshooting.html\n"
      ]
     },
     "execution_count": 4,
     "metadata": {},
     "output_type": "execute_result"
    }
   ],
   "source": [
    "import altair as alt\n",
    "import pandas as pd\n",
    "import numpy as np\n",
    "\n",
    "#alt.renderers.enable('notebook')\n",
    "# alt.renderers.enable('default')\n",
    "# alt.renderers.enable('mimetype')\n",
    "alt.renderers.enable('jupyterlab')\n",
    "\n",
    "# This is a comment\n",
    "(\n",
    "  alt.Chart( pd.DataFrame(np.random.randint(0,100,size=(100, 4)), columns=list('ABCD')) )\n",
    "  .mark_point()\n",
    "  .encode(\n",
    "    x='A',\n",
    "    y='B'\n",
    "  )\n",
    ")"
   ]
  },
  {
   "cell_type": "code",
   "execution_count": null,
   "metadata": {},
   "outputs": [],
   "source": []
  }
 ],
 "metadata": {
  "kernelspec": {
   "display_name": "Python 3.9.13 64-bit",
   "language": "python",
   "name": "python3"
  },
  "language_info": {
   "codemirror_mode": {
    "name": "ipython",
    "version": 3
   },
   "file_extension": ".py",
   "mimetype": "text/x-python",
   "name": "python",
   "nbconvert_exporter": "python",
   "pygments_lexer": "ipython3",
   "version": "3.9.13"
  },
  "orig_nbformat": 4,
  "vscode": {
   "interpreter": {
    "hash": "b0fa6594d8f4cbf19f97940f81e996739fb7646882a419484c72d19e05852a7e"
   }
  }
 },
 "nbformat": 4,
 "nbformat_minor": 2
}
